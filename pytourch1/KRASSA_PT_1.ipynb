{
  "cells": [
    {
      "cell_type": "code",
      "execution_count": 1,
      "metadata": {
        "id": "xVYWcLeSzPiY"
      },
      "outputs": [],
      "source": [
        "import torch"
      ]
    },
    {
      "cell_type": "code",
      "execution_count": 2,
      "metadata": {
        "id": "RDfOoq7kzPiZ"
      },
      "outputs": [],
      "source": [
        "# Создайте случайный FloatTensor размера 3x4x5\n",
        "a_tensor = torch.randn(3, 4, 5)"
      ]
    },
    {
      "cell_type": "code",
      "execution_count": 3,
      "metadata": {
        "colab": {
          "base_uri": "https://localhost:8080/"
        },
        "id": "aMDQ8fHjzPia",
        "outputId": "517161e5-dcee-43f9-cc14-c5f2b5dd0aae"
      },
      "outputs": [
        {
          "output_type": "execute_result",
          "data": {
            "text/plain": [
              "torch.Size([3, 4, 5])"
            ]
          },
          "metadata": {},
          "execution_count": 3
        }
      ],
      "source": [
        "# Выведите его форму (shape)\n",
        "a_tensor.shape"
      ]
    },
    {
      "cell_type": "code",
      "execution_count": 4,
      "metadata": {
        "colab": {
          "base_uri": "https://localhost:8080/"
        },
        "id": "hPwILQq5zPia",
        "outputId": "73842301-a93f-4f71-bb8e-e7606f3ae49e"
      },
      "outputs": [
        {
          "output_type": "execute_result",
          "data": {
            "text/plain": [
              "torch.Size([6, 10])"
            ]
          },
          "metadata": {},
          "execution_count": 4
        }
      ],
      "source": [
        "# Приведите его к форме 6 X 10\n",
        "b_tensor = torch.reshape(a_tensor, (6, 10))\n",
        "b_tensor.shape"
      ]
    },
    {
      "cell_type": "code",
      "execution_count": 5,
      "metadata": {
        "colab": {
          "base_uri": "https://localhost:8080/"
        },
        "id": "ZuR2V6gNzPia",
        "outputId": "504d9118-64e6-456a-c6c2-359fe8187d3e"
      },
      "outputs": [
        {
          "output_type": "execute_result",
          "data": {
            "text/plain": [
              "tensor([8, 7, 7, 0, 6, 3, 7, 6, 8, 7])"
            ]
          },
          "metadata": {},
          "execution_count": 5
        }
      ],
      "source": [
        "# Умножьте его на вектор [1, 4, 2, 2, 1] поэлементноb_tensor\n",
        "v =  torch.randint(10, size=(10,)) # torch.rand(10)\n",
        "v"
      ]
    },
    {
      "cell_type": "code",
      "execution_count": 6,
      "metadata": {
        "colab": {
          "base_uri": "https://localhost:8080/"
        },
        "id": "gMagIoMszPib",
        "outputId": "e717cd35-45e7-4ce1-b99e-0a50b1696cd5"
      },
      "outputs": [
        {
          "output_type": "execute_result",
          "data": {
            "text/plain": [
              "tensor([[ 15.3655,  -1.0972,   7.2591,   0.0000,   3.7778,  -1.3586,  -8.4338,\n",
              "          -9.4676,   5.2074,  -2.5139],\n",
              "        [ -0.7843,   7.2709,   0.4918,  -0.0000,  -5.9739,   2.2550,  -4.2932,\n",
              "          -0.4424,  18.6472,  -5.6874],\n",
              "        [  9.3941,  -8.1151,   9.1934,   0.0000,   3.6328,  -0.2685,  -5.1515,\n",
              "          -0.1869,  -5.5777,   4.1045],\n",
              "        [ -2.4800,  -2.0651,   7.9070,  -0.0000,  -4.4651,   1.4971,  -3.6172,\n",
              "          -6.8984,  -4.3451,  -3.1176],\n",
              "        [  4.6689,  -5.0307, -11.8382,   0.0000,   8.5578,  -2.0026,   4.7787,\n",
              "          -5.1266,   0.8188,   2.4998],\n",
              "        [ -1.5116,  -0.8708,  -3.9191,  -0.0000,   2.3618,  -2.4232,   6.7362,\n",
              "           8.0272,  -1.3014,   1.8347]])"
            ]
          },
          "metadata": {},
          "execution_count": 6
        }
      ],
      "source": [
        "torch.mul(b_tensor, v)"
      ]
    },
    {
      "cell_type": "code",
      "execution_count": 7,
      "metadata": {
        "colab": {
          "base_uri": "https://localhost:8080/"
        },
        "id": "AOkKZr9LzPib",
        "outputId": "543f3da1-f307-4015-fefa-d84f9a08265e"
      },
      "outputs": [
        {
          "output_type": "execute_result",
          "data": {
            "text/plain": [
              "tensor([[ 10.0170,  -0.7921,  -1.0095,   3.3558,  -0.2878,  -0.9219],\n",
              "        [ -4.0481,   1.0734,   0.0150,  -1.6243,  -2.8575,  -8.5291],\n",
              "        [  5.9216,   0.1025,   0.2598,   3.3336,   0.2069,   2.2177],\n",
              "        [ -2.6488,   0.8041,  -4.1583,   2.2323,  -3.5983,   2.1118],\n",
              "        [  5.6009,   0.6112,  -0.5326,   0.6573,   1.4768,  -0.1455],\n",
              "        [-11.6978,   3.6089,  -3.9185,   4.4169,  -3.1314,  -3.3235]])"
            ]
          },
          "metadata": {},
          "execution_count": 7
        }
      ],
      "source": [
        "# Умножьте тензор матрично на себя, чтобы результат был размерности 6x6\n",
        "b_tensor.mm(b_tensor.reshape(10, 6))"
      ]
    },
    {
      "cell_type": "code",
      "execution_count": 8,
      "metadata": {
        "colab": {
          "base_uri": "https://localhost:8080/"
        },
        "id": "xH9It-RrzPib",
        "outputId": "93a6a9d3-6e9e-49f1-eba0-d2f2c9f51a5d"
      },
      "outputs": [
        {
          "output_type": "execute_result",
          "data": {
            "text/plain": [
              "tensor([ -71.0000,  -36.6250, -124.0000])"
            ]
          },
          "metadata": {},
          "execution_count": 8
        }
      ],
      "source": [
        "# Посчитайте производную функции y = x**3 + z - 75t в точке (1, 0.5, 2)\n",
        "x = torch.tensor([1, 0.5, 2], requires_grad=True)\n",
        "z = x**3 + x - 75*x\n",
        "z.backward(x)\n",
        "x.grad"
      ]
    },
    {
      "cell_type": "code",
      "execution_count": 9,
      "metadata": {
        "id": "Zb_KrAjwzPib"
      },
      "outputs": [],
      "source": [
        "# Создайте единичный тензор размера 5x6\n",
        "c = torch.ones((5, 6))"
      ]
    },
    {
      "cell_type": "code",
      "execution_count": 10,
      "metadata": {
        "colab": {
          "base_uri": "https://localhost:8080/"
        },
        "id": "0-Lxd3TJzPib",
        "outputId": "2798c021-59bc-45fb-b1c7-935f1fc42a41"
      },
      "outputs": [
        {
          "output_type": "execute_result",
          "data": {
            "text/plain": [
              "array([[1., 1., 1., 1., 1., 1.],\n",
              "       [1., 1., 1., 1., 1., 1.],\n",
              "       [1., 1., 1., 1., 1., 1.],\n",
              "       [1., 1., 1., 1., 1., 1.],\n",
              "       [1., 1., 1., 1., 1., 1.]], dtype=float32)"
            ]
          },
          "metadata": {},
          "execution_count": 10
        }
      ],
      "source": [
        "# Переведите его в формат numpy\n",
        "c.numpy()"
      ]
    },
    {
      "cell_type": "code",
      "execution_count": 11,
      "metadata": {
        "colab": {
          "base_uri": "https://localhost:8080/"
        },
        "id": "TIwwFzkHzPic",
        "outputId": "479b4e5c-61cf-40df-964e-07e238b5e692"
      },
      "outputs": [
        {
          "output_type": "stream",
          "name": "stdout",
          "text": [
            "Iteration 1, x = 1.96, y = 4.85\n",
            "Iteration 11, x = 1.69, y = 4.12\n",
            "Iteration 21, x = 1.55, y = 3.92\n",
            "Iteration 31, x = 1.47, y = 3.85\n",
            "Iteration 41, x = 1.42, y = 3.83\n",
            "Iteration 51, x = 1.39, y = 3.82\n",
            "Iteration 61, x = 1.37, y = 3.82\n",
            "Iteration 71, x = 1.36, y = 3.82\n",
            "Iteration 81, x = 1.35, y = 3.82\n",
            "Iteration 91, x = 1.34, y = 3.82\n",
            "Iteration 101, x = 1.34, y = 3.81\n",
            "Iteration 111, x = 1.34, y = 3.81\n"
          ]
        }
      ],
      "source": [
        "# Давайте теперь пооптимизируем: возьмите функцию y = x**w1 - 2 * x**2 + 5\n",
        "# Посчитайте\n",
        "from torch.autograd import Variable\n",
        "\n",
        "\n",
        "def function(x, w1):\n",
        "    return x**w1 - 2 * x**2 + 5\n",
        "\n",
        "def gradient(x):\n",
        "    return torch.autograd.grad(function(x, w1), x)[0]\n",
        "\n",
        "w1 = 3\n",
        "x = Variable(torch.Tensor([2]), requires_grad=True)\n",
        "learning_rate = 0.01\n",
        "num_iterations = 120\n",
        "for i in range(num_iterations):\n",
        "    x_grad = gradient(x)\n",
        "    x.data -= learning_rate * x_grad\n",
        "    if not i%10:\n",
        "        print(f\"Iteration {i+1}, x = {x.data[0]:.2f}, y = {function(x.data[0], w1):.2f}\")"
      ]
    }
  ],
  "metadata": {
    "kernelspec": {
      "display_name": "Python 3 (ipykernel)",
      "language": "python",
      "name": "python3"
    },
    "language_info": {
      "codemirror_mode": {
        "name": "ipython",
        "version": 3
      },
      "file_extension": ".py",
      "mimetype": "text/x-python",
      "name": "python",
      "nbconvert_exporter": "python",
      "pygments_lexer": "ipython3",
      "version": "3.7.0"
    },
    "colab": {
      "provenance": []
    }
  },
  "nbformat": 4,
  "nbformat_minor": 0
}