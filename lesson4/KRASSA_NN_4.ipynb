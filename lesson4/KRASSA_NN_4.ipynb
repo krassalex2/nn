{
  "cells": [
    {
      "cell_type": "markdown",
      "metadata": {
        "id": "83u8Elu2ResI"
      },
      "source": [
        "## Решение домашнего задания к уроку 4. Сверточные нейронные сети"
      ]
    },
    {
      "cell_type": "markdown",
      "metadata": {
        "id": "3_eBArqdRiWO"
      },
      "source": [
        "### Задание:\n",
        "#### Используя файл Web4.ipynb (он в полезных ссылках):\n",
        "\n",
        "1. обучить рукописную сверточную нейронную сеть (с падением размера ядра свертки и последовательностью блоков свертка-пулинг (conv-pool)-(conv-pool)-...) на датасете cifar-10\n",
        "\n",
        "2. оценить рост точности при увеличении ширины сети (больше фильтров)\n",
        "\n",
        "3. оценить рост точности при увеличении глубины сети (больше слоев)\n",
        "\n",
        "4. *  сравнить с точностью полносвязной сети для этой выборки"
      ]
    },
    {
      "cell_type": "code",
      "execution_count": 1,
      "metadata": {
        "id": "QOF1g-lERKl0"
      },
      "outputs": [],
      "source": [
        "import numpy as np\n",
        "import pandas as pd\n",
        "import tensorflow as tf\n",
        "import matplotlib.pyplot as plt\n",
        "\n",
        "from tensorflow.keras.models import Sequential, Model\n",
        "from tensorflow.keras.layers import Conv2D, Input\n",
        "from tensorflow.keras.layers import GlobalMaxPooling2D, MaxPooling2D, AveragePooling2D, GlobalAveragePooling2D\n",
        "from tensorflow.keras.datasets import cifar10\n",
        "from tensorflow.keras.preprocessing.image import ImageDataGenerator\n",
        "from tensorflow.keras.utils import to_categorical\n",
        "from tensorflow.keras.layers import Dense, Dropout, Activation, Flatten\n",
        "\n",
        "import os"
      ]
    },
    {
      "cell_type": "code",
      "execution_count": 2,
      "metadata": {
        "id": "2HkGNHF0Vu7z"
      },
      "outputs": [],
      "source": [
        "tf.random.set_seed(1)"
      ]
    },
    {
      "cell_type": "code",
      "execution_count": 3,
      "metadata": {
        "colab": {
          "base_uri": "https://localhost:8080/"
        },
        "id": "mTXjD3lSVwVB",
        "outputId": "106338e6-df4a-49d0-c117-02f2a55de4b2"
      },
      "outputs": [
        {
          "output_type": "execute_result",
          "data": {
            "text/plain": [
              "[PhysicalDevice(name='/physical_device:GPU:0', device_type='GPU')]"
            ]
          },
          "metadata": {},
          "execution_count": 3
        }
      ],
      "source": [
        "tf.config.list_physical_devices('GPU')"
      ]
    },
    {
      "cell_type": "code",
      "execution_count": 4,
      "metadata": {
        "id": "RdxxLiXgx7d3"
      },
      "outputs": [],
      "source": [
        "results = pd.DataFrame() # сводная таблица результатов\n",
        "step = [] # шаг\n",
        "desc = [] # описание\n",
        "train_acc = [] # результат на трейне\n",
        "test_acc = [] # результат на тесте"
      ]
    },
    {
      "cell_type": "code",
      "execution_count": 5,
      "metadata": {
        "colab": {
          "base_uri": "https://localhost:8080/"
        },
        "id": "kbq-PdgbWBIP",
        "outputId": "38b75d6d-abf7-4e81-c222-5b43edeac028"
      },
      "outputs": [
        {
          "output_type": "stream",
          "name": "stdout",
          "text": [
            "Downloading data from https://www.cs.toronto.edu/~kriz/cifar-10-python.tar.gz\n",
            "170498071/170498071 [==============================] - 13s 0us/step\n",
            "X_train shape: (50000, 32, 32, 3)\n",
            "50000 тренировочные примеры\n",
            "10000 тестовые примеры\n"
          ]
        }
      ],
      "source": [
        "# установка параметров нейросети\n",
        "batch_size = 64\n",
        "num_classes = 10\n",
        "epochs = 10\n",
        "\n",
        "# разделение тренировочной и тестовой выборки\n",
        "(X_train, y_train), (X_test, y_test) = cifar10.load_data()\n",
        "print('X_train shape:', X_train.shape)\n",
        "print(X_train.shape[0], 'тренировочные примеры')\n",
        "print(X_test.shape[0], 'тестовые примеры')\n",
        "\n",
        "# преобразование матрицы чисел 0-9 в бинарную матрицу чисел 0-1\n",
        "y_train = to_categorical(y_train, num_classes)\n",
        "y_test = to_categorical(y_test, num_classes)\n",
        "\n",
        "\n",
        "X_train = X_train / 255.0\n",
        "X_test = X_test / 255.0"
      ]
    },
    {
      "cell_type": "code",
      "execution_count": 6,
      "metadata": {
        "id": "ycUzSB60Y0Q1"
      },
      "outputs": [],
      "source": [
        "classes = ['самолет', 'автомобиль', 'птица', 'кот', 'олень', 'собака', 'лягушка', 'лошадь', 'корабль', 'грузовик']"
      ]
    },
    {
      "cell_type": "code",
      "execution_count": 7,
      "metadata": {
        "colab": {
          "base_uri": "https://localhost:8080/",
          "height": 452
        },
        "id": "uSCaII3xYrTP",
        "outputId": "d617b623-c34b-4cac-e5a8-6c88f0511c63"
      },
      "outputs": [
        {
          "output_type": "display_data",
          "data": {
            "text/plain": [
              "<Figure size 640x480 with 1 Axes>"
            ],
            "image/png": "[encoded data removed]"
          },
          "metadata": {}
        }
      ],
      "source": [
        "N = 9\n",
        "\n",
        "plt.imshow(X_test[N])\n",
        "plt.title(classes[np.argmax(y_test[N,:])])\n",
        "plt.show()"
      ]
    },
    {
      "cell_type": "markdown",
      "metadata": {
        "id": "H45iKN1_ZABy"
      },
      "source": [
        "### 1. Обучить рукописную сверточную нейронную сеть (с падением размера ядра свертки и последовательностью блоков свертка-пулинг (conv-pool)-(conv-pool)-...) на датасете cifar-10\n"
      ]
    },
    {
      "cell_type": "code",
      "execution_count": 8,
      "metadata": {
        "colab": {
          "base_uri": "https://localhost:8080/"
        },
        "id": "X0ygNb8lY3WO",
        "outputId": "d2e644ec-a022-4d09-b2bd-38f95c859a20"
      },
      "outputs": [
        {
          "output_type": "stream",
          "name": "stdout",
          "text": [
            "Model: \"sequential\"\n",
            "_________________________________________________________________\n",
            " Layer (type)                Output Shape              Param #   \n",
            "=================================================================\n",
            " conv2d (Conv2D)             (None, 32, 32, 32)        896       \n",
            "                                                                 \n",
            " activation (Activation)     (None, 32, 32, 32)        0         \n",
            "                                                                 \n",
            " conv2d_1 (Conv2D)           (None, 30, 30, 32)        9248      \n",
            "                                                                 \n",
            " activation_1 (Activation)   (None, 30, 30, 32)        0         \n",
            "                                                                 \n",
            " max_pooling2d (MaxPooling2D  (None, 15, 15, 32)       0         \n",
            " )                                                               \n",
            "                                                                 \n",
            " dropout (Dropout)           (None, 15, 15, 32)        0         \n",
            "                                                                 \n",
            " conv2d_2 (Conv2D)           (None, 15, 15, 64)        18496     \n",
            "                                                                 \n",
            " activation_2 (Activation)   (None, 15, 15, 64)        0         \n",
            "                                                                 \n",
            " conv2d_3 (Conv2D)           (None, 13, 13, 64)        36928     \n",
            "                                                                 \n",
            " activation_3 (Activation)   (None, 13, 13, 64)        0         \n",
            "                                                                 \n",
            " max_pooling2d_1 (MaxPooling  (None, 6, 6, 64)         0         \n",
            " 2D)                                                             \n",
            "                                                                 \n",
            " dropout_1 (Dropout)         (None, 6, 6, 64)          0         \n",
            "                                                                 \n",
            " global_average_pooling2d (G  (None, 64)               0         \n",
            " lobalAveragePooling2D)                                          \n",
            "                                                                 \n",
            " dense (Dense)               (None, 64)                4160      \n",
            "                                                                 \n",
            " activation_4 (Activation)   (None, 64)                0         \n",
            "                                                                 \n",
            " dense_1 (Dense)             (None, 32)                2080      \n",
            "                                                                 \n",
            " activation_5 (Activation)   (None, 32)                0         \n",
            "                                                                 \n",
            " dropout_2 (Dropout)         (None, 32)                0         \n",
            "                                                                 \n",
            " dense_2 (Dense)             (None, 10)                330       \n",
            "                                                                 \n",
            " activation_6 (Activation)   (None, 10)                0         \n",
            "                                                                 \n",
            "=================================================================\n",
            "Total params: 72,138\n",
            "Trainable params: 72,138\n",
            "Non-trainable params: 0\n",
            "_________________________________________________________________\n"
          ]
        }
      ],
      "source": [
        "# конфигурирование слоев нейросети\n",
        "model_1 = Sequential()\n",
        "\n",
        "# слои нейросети отвественные за свертку и max-pooling\n",
        "model_1.add(Conv2D(32, (3, 3), padding='same', input_shape=X_train.shape[1:]))\n",
        "model_1.add(Activation('relu'))\n",
        "model_1.add(Conv2D(32, (3, 3)))\n",
        "model_1.add(Activation('relu'))\n",
        "model_1.add(MaxPooling2D(pool_size=(2, 2)))\n",
        "model_1.add(Dropout(0.25))\n",
        "\n",
        "model_1.add(Conv2D(64, (3, 3), padding='same'))\n",
        "model_1.add(Activation('relu'))\n",
        "model_1.add(Conv2D(64, (3, 3)))\n",
        "model_1.add(Activation('relu'))\n",
        "model_1.add(MaxPooling2D(pool_size=(2, 2)))\n",
        "model_1.add(Dropout(0.25))\n",
        "\n",
        "# полносвязные слои нейронной сети\n",
        "model_1.add(GlobalAveragePooling2D())\n",
        "model_1.add(Dense(64))\n",
        "model_1.add(Activation('relu'))\n",
        "model_1.add(Dense(32))\n",
        "model_1.add(Activation('relu'))\n",
        "model_1.add(Dropout(0.5))\n",
        "model_1.add(Dense(num_classes))\n",
        "model_1.add(Activation('softmax'))\n",
        "\n",
        "model_1.summary()\n",
        "# компиляция модели\n",
        "model_1.compile(loss='categorical_crossentropy',\n",
        "                optimizer='Adam',\n",
        "                metrics=['accuracy'])"
      ]
    },
    {
      "cell_type": "code",
      "execution_count": 9,
      "metadata": {
        "colab": {
          "base_uri": "https://localhost:8080/"
        },
        "id": "Lv3dwktVZH96",
        "outputId": "c0c69ddd-7d85-4035-a940-1d3659036b3a"
      },
      "outputs": [
        {
          "output_type": "stream",
          "name": "stdout",
          "text": [
            "Epoch 1/10\n",
            "782/782 [==============================] - 19s 10ms/step - loss: 1.9523 - accuracy: 0.2397 - val_loss: 1.7242 - val_accuracy: 0.3368\n",
            "Epoch 2/10\n",
            "782/782 [==============================] - 6s 8ms/step - loss: 1.7194 - accuracy: 0.3298 - val_loss: 1.5369 - val_accuracy: 0.4107\n",
            "Epoch 3/10\n",
            "782/782 [==============================] - 7s 9ms/step - loss: 1.6187 - accuracy: 0.3789 - val_loss: 1.4577 - val_accuracy: 0.4509\n",
            "Epoch 4/10\n",
            "782/782 [==============================] - 6s 8ms/step - loss: 1.5487 - accuracy: 0.4125 - val_loss: 1.4043 - val_accuracy: 0.4665\n",
            "Epoch 5/10\n",
            "782/782 [==============================] - 7s 9ms/step - loss: 1.4885 - accuracy: 0.4430 - val_loss: 1.2930 - val_accuracy: 0.5311\n",
            "Epoch 6/10\n",
            "782/782 [==============================] - 8s 11ms/step - loss: 1.4345 - accuracy: 0.4702 - val_loss: 1.2571 - val_accuracy: 0.5318\n",
            "Epoch 7/10\n",
            "782/782 [==============================] - 9s 12ms/step - loss: 1.3809 - accuracy: 0.4970 - val_loss: 1.1962 - val_accuracy: 0.5704\n",
            "Epoch 8/10\n",
            "782/782 [==============================] - 8s 11ms/step - loss: 1.3337 - accuracy: 0.5186 - val_loss: 1.1453 - val_accuracy: 0.5902\n",
            "Epoch 9/10\n",
            "782/782 [==============================] - 7s 9ms/step - loss: 1.2952 - accuracy: 0.5357 - val_loss: 1.0982 - val_accuracy: 0.6136\n",
            "Epoch 10/10\n",
            "782/782 [==============================] - 6s 8ms/step - loss: 1.2478 - accuracy: 0.5534 - val_loss: 1.1448 - val_accuracy: 0.5978\n"
          ]
        }
      ],
      "source": [
        "history_1 = model_1.fit(X_train, y_train,\n",
        "                        batch_size=batch_size,\n",
        "                        epochs=epochs,\n",
        "                        validation_data=(X_test, y_test))"
      ]
    },
    {
      "cell_type": "code",
      "execution_count": 10,
      "metadata": {
        "colab": {
          "base_uri": "https://localhost:8080/"
        },
        "id": "_H2zh1tXbSZD",
        "outputId": "5524348c-9906-4f6e-ca7b-cd2214388940"
      },
      "outputs": [
        {
          "output_type": "stream",
          "name": "stdout",
          "text": [
            "1563/1563 - 5s - loss: 1.1026 - accuracy: 0.6088 - 5s/epoch - 3ms/step\n",
            "313/313 - 1s - loss: 1.1447 - accuracy: 0.5978 - 844ms/epoch - 3ms/step\n",
            "train_loss: 1.102623462677002, train_accuracy: 0.6087599992752075\n",
            "test_loss: 1.1447497606277466, test_accuracy: 0.5978000164031982\n"
          ]
        }
      ],
      "source": [
        "train_loss, train_m = model_1.evaluate(X_train, y_train, verbose=2)\n",
        "test_loss, test_m = model_1.evaluate(X_test, y_test, verbose=2)\n",
        "print(f'train_loss: {train_loss}, train_accuracy: {train_m}')\n",
        "print(f'test_loss: {test_loss}, test_accuracy: {test_m}')\n",
        "\n",
        "step.append(1)\n",
        "desc.append('Базовая модель')\n",
        "train_acc.append(round(train_m, 2))\n",
        "test_acc.append(round(test_m, 2))"
      ]
    },
    {
      "cell_type": "code",
      "execution_count": 11,
      "metadata": {
        "colab": {
          "base_uri": "https://localhost:8080/",
          "height": 469
        },
        "id": "Ck4h0hrRadCb",
        "outputId": "4c1879e6-8c83-456a-c77b-d11f835fb23a"
      },
      "outputs": [
        {
          "output_type": "stream",
          "name": "stdout",
          "text": [
            "1/1 [==============================] - 0s 247ms/step\n"
          ]
        },
        {
          "output_type": "display_data",
          "data": {
            "text/plain": [
              "<Figure size 640x480 with 1 Axes>"
            ],
            "image/png": "[encoded data removed]"
          },
          "metadata": {}
        }
      ],
      "source": [
        "N = 5\n",
        "y_p = model_1.predict(X_test[N:N+1])\n",
        "y_t = np.argmax(y_test[N:N+1], axis = 1 )\n",
        "y_i = np.argmax(y_p, axis = 1 )\n",
        "plt.imshow(X_test[N])\n",
        "plt.title(f'это : {classes[y_t[0]]} - опознан как : {classes[y_i[0]]}')\n",
        "plt.show()"
      ]
    },
    {
      "cell_type": "markdown",
      "metadata": {
        "id": "Q7RqR-k7b0m5"
      },
      "source": [
        "### 2. Оценить рост точности при увеличении ширины сети (больше фильтров)"
      ]
    },
    {
      "cell_type": "code",
      "execution_count": 12,
      "metadata": {
        "colab": {
          "base_uri": "https://localhost:8080/"
        },
        "id": "UEa8tRjicABI",
        "outputId": "c91ebc01-5192-4af8-8a7e-8aa170083439"
      },
      "outputs": [
        {
          "output_type": "stream",
          "name": "stdout",
          "text": [
            "Model: \"sequential_1\"\n",
            "_________________________________________________________________\n",
            " Layer (type)                Output Shape              Param #   \n",
            "=================================================================\n",
            " conv2d_4 (Conv2D)           (None, 32, 32, 32)        896       \n",
            "                                                                 \n",
            " activation_7 (Activation)   (None, 32, 32, 32)        0         \n",
            "                                                                 \n",
            " conv2d_5 (Conv2D)           (None, 30, 30, 64)        18496     \n",
            "                                                                 \n",
            " activation_8 (Activation)   (None, 30, 30, 64)        0         \n",
            "                                                                 \n",
            " max_pooling2d_2 (MaxPooling  (None, 15, 15, 64)       0         \n",
            " 2D)                                                             \n",
            "                                                                 \n",
            " dropout_3 (Dropout)         (None, 15, 15, 64)        0         \n",
            "                                                                 \n",
            " conv2d_6 (Conv2D)           (None, 15, 15, 128)       73856     \n",
            "                                                                 \n",
            " activation_9 (Activation)   (None, 15, 15, 128)       0         \n",
            "                                                                 \n",
            " conv2d_7 (Conv2D)           (None, 13, 13, 256)       295168    \n",
            "                                                                 \n",
            " activation_10 (Activation)  (None, 13, 13, 256)       0         \n",
            "                                                                 \n",
            " max_pooling2d_3 (MaxPooling  (None, 6, 6, 256)        0         \n",
            " 2D)                                                             \n",
            "                                                                 \n",
            " dropout_4 (Dropout)         (None, 6, 6, 256)         0         \n",
            "                                                                 \n",
            " global_average_pooling2d_1   (None, 256)              0         \n",
            " (GlobalAveragePooling2D)                                        \n",
            "                                                                 \n",
            " dense_3 (Dense)             (None, 64)                16448     \n",
            "                                                                 \n",
            " activation_11 (Activation)  (None, 64)                0         \n",
            "                                                                 \n",
            " dense_4 (Dense)             (None, 32)                2080      \n",
            "                                                                 \n",
            " activation_12 (Activation)  (None, 32)                0         \n",
            "                                                                 \n",
            " dropout_5 (Dropout)         (None, 32)                0         \n",
            "                                                                 \n",
            " dense_5 (Dense)             (None, 10)                330       \n",
            "                                                                 \n",
            " activation_13 (Activation)  (None, 10)                0         \n",
            "                                                                 \n",
            "=================================================================\n",
            "Total params: 407,274\n",
            "Trainable params: 407,274\n",
            "Non-trainable params: 0\n",
            "_________________________________________________________________\n"
          ]
        }
      ],
      "source": [
        "# конфигурирование слоев нейросети\n",
        "model_2 = Sequential()\n",
        "\n",
        "# слои нейросети отвественные за свертку и max-pooling\n",
        "model_2.add(Conv2D(32, (3, 3), padding='same', input_shape=X_train.shape[1:]))\n",
        "model_2.add(Activation('relu'))\n",
        "model_2.add(Conv2D(64, (3, 3)))\n",
        "model_2.add(Activation('relu'))\n",
        "model_2.add(MaxPooling2D(pool_size=(2, 2)))\n",
        "model_2.add(Dropout(0.25))\n",
        "\n",
        "model_2.add(Conv2D(128, (3, 3), padding='same'))\n",
        "model_2.add(Activation('relu'))\n",
        "model_2.add(Conv2D(256, (3, 3)))\n",
        "model_2.add(Activation('relu'))\n",
        "model_2.add(MaxPooling2D(pool_size=(2, 2)))\n",
        "model_2.add(Dropout(0.25))\n",
        "\n",
        "# полносвязные слои нейронной сети\n",
        "model_2.add(GlobalAveragePooling2D())\n",
        "model_2.add(Dense(64))\n",
        "model_2.add(Activation('relu'))\n",
        "model_2.add(Dense(32))\n",
        "model_2.add(Activation('relu'))\n",
        "model_2.add(Dropout(0.5))\n",
        "model_2.add(Dense(num_classes))\n",
        "model_2.add(Activation('softmax'))\n",
        "\n",
        "model_2.summary()\n",
        "# компиляция модели\n",
        "model_2.compile(loss='categorical_crossentropy',\n",
        "                optimizer='Adam',\n",
        "                metrics=['accuracy'])"
      ]
    },
    {
      "cell_type": "code",
      "execution_count": 13,
      "metadata": {
        "colab": {
          "base_uri": "https://localhost:8080/"
        },
        "id": "2Q00php1dNp_",
        "outputId": "55560a66-7330-4ce7-bdd6-79a992084e2d"
      },
      "outputs": [
        {
          "output_type": "stream",
          "name": "stdout",
          "text": [
            "Epoch 1/10\n",
            "782/782 [==============================] - 15s 16ms/step - loss: 1.9755 - accuracy: 0.2346 - val_loss: 1.6820 - val_accuracy: 0.3524\n",
            "Epoch 2/10\n",
            "782/782 [==============================] - 11s 14ms/step - loss: 1.6941 - accuracy: 0.3449 - val_loss: 1.5044 - val_accuracy: 0.4317\n",
            "Epoch 3/10\n",
            "782/782 [==============================] - 11s 15ms/step - loss: 1.5056 - accuracy: 0.4387 - val_loss: 1.3045 - val_accuracy: 0.5077\n",
            "Epoch 4/10\n",
            "782/782 [==============================] - 11s 14ms/step - loss: 1.3845 - accuracy: 0.4958 - val_loss: 1.2860 - val_accuracy: 0.5342\n",
            "Epoch 5/10\n",
            "782/782 [==============================] - 11s 14ms/step - loss: 1.3002 - accuracy: 0.5314 - val_loss: 1.1092 - val_accuracy: 0.6030\n",
            "Epoch 6/10\n",
            "782/782 [==============================] - 11s 14ms/step - loss: 1.2239 - accuracy: 0.5620 - val_loss: 1.0351 - val_accuracy: 0.6303\n",
            "Epoch 7/10\n",
            "782/782 [==============================] - 12s 16ms/step - loss: 1.1598 - accuracy: 0.5891 - val_loss: 0.9858 - val_accuracy: 0.6471\n",
            "Epoch 8/10\n",
            "782/782 [==============================] - 11s 14ms/step - loss: 1.1074 - accuracy: 0.6099 - val_loss: 0.9451 - val_accuracy: 0.6600\n",
            "Epoch 9/10\n",
            "782/782 [==============================] - 11s 14ms/step - loss: 1.0554 - accuracy: 0.6328 - val_loss: 0.9104 - val_accuracy: 0.6774\n",
            "Epoch 10/10\n",
            "782/782 [==============================] - 11s 14ms/step - loss: 0.9966 - accuracy: 0.6577 - val_loss: 0.8608 - val_accuracy: 0.6977\n"
          ]
        }
      ],
      "source": [
        "history_2 = model_2.fit(X_train, y_train,\n",
        "                        batch_size=batch_size,\n",
        "                        epochs=epochs,\n",
        "                        validation_data=(X_test, y_test))"
      ]
    },
    {
      "cell_type": "code",
      "execution_count": 14,
      "metadata": {
        "colab": {
          "base_uri": "https://localhost:8080/"
        },
        "id": "ud-xcmiTdlft",
        "outputId": "532603ac-5ec4-459a-a476-534b01865866"
      },
      "outputs": [
        {
          "output_type": "stream",
          "name": "stdout",
          "text": [
            "1563/1563 - 5s - loss: 0.7757 - accuracy: 0.7206 - 5s/epoch - 3ms/step\n",
            "313/313 - 1s - loss: 0.8608 - accuracy: 0.6977 - 954ms/epoch - 3ms/step\n",
            "train_loss: 0.7756822109222412, train_accuracy: 0.7205600142478943\n",
            "test_loss: 0.8608198165893555, test_accuracy: 0.697700023651123\n"
          ]
        }
      ],
      "source": [
        "train_loss, train_m = model_2.evaluate(X_train, y_train, verbose=2)\n",
        "test_loss, test_m = model_2.evaluate(X_test, y_test, verbose=2)\n",
        "print(f'train_loss: {train_loss}, train_accuracy: {train_m}')\n",
        "print(f'test_loss: {test_loss}, test_accuracy: {test_m}')\n",
        "\n",
        "step.append(2)\n",
        "desc.append('Шире - больше каналов')\n",
        "train_acc.append(round(train_m, 2))\n",
        "test_acc.append(round(test_m, 2))"
      ]
    },
    {
      "cell_type": "code",
      "execution_count": 15,
      "metadata": {
        "colab": {
          "base_uri": "https://localhost:8080/",
          "height": 469
        },
        "id": "awQj3DPLdn7p",
        "outputId": "b646e6bd-bc20-4313-f34a-aaa22b7801a3"
      },
      "outputs": [
        {
          "output_type": "stream",
          "name": "stdout",
          "text": [
            "1/1 [==============================] - 0s 157ms/step\n"
          ]
        },
        {
          "output_type": "display_data",
          "data": {
            "text/plain": [
              "<Figure size 640x480 with 1 Axes>"
            ],
            "image/png": "[encoded data removed]"
          },
          "metadata": {}
        }
      ],
      "source": [
        "N = 15\n",
        "y_p = model_2.predict(X_test[N:N+1])\n",
        "y_t = np.argmax(y_test[N:N+1], axis = 1 )\n",
        "y_i = np.argmax(y_p, axis = 1 )\n",
        "plt.imshow(X_test[N])\n",
        "plt.title(f'это : {classes[y_t[0]]} - опознан как : {classes[y_i[0]]}')\n",
        "plt.show()"
      ]
    },
    {
      "cell_type": "markdown",
      "metadata": {
        "id": "DSQGDGXqd0Ux"
      },
      "source": [
        "### 3. Оценить рост точности при увеличении глубины сети (больше слоев)"
      ]
    },
    {
      "cell_type": "code",
      "execution_count": 16,
      "metadata": {
        "colab": {
          "base_uri": "https://localhost:8080/"
        },
        "id": "0Tl8xrXZdve0",
        "outputId": "b3cbf436-1ebc-498c-8063-8f2b76ee6aa4"
      },
      "outputs": [
        {
          "output_type": "stream",
          "name": "stdout",
          "text": [
            "Model: \"sequential_2\"\n",
            "_________________________________________________________________\n",
            " Layer (type)                Output Shape              Param #   \n",
            "=================================================================\n",
            " conv2d_8 (Conv2D)           (None, 32, 32, 32)        896       \n",
            "                                                                 \n",
            " activation_14 (Activation)  (None, 32, 32, 32)        0         \n",
            "                                                                 \n",
            " conv2d_9 (Conv2D)           (None, 30, 30, 32)        9248      \n",
            "                                                                 \n",
            " activation_15 (Activation)  (None, 30, 30, 32)        0         \n",
            "                                                                 \n",
            " max_pooling2d_4 (MaxPooling  (None, 15, 15, 32)       0         \n",
            " 2D)                                                             \n",
            "                                                                 \n",
            " dropout_6 (Dropout)         (None, 15, 15, 32)        0         \n",
            "                                                                 \n",
            " conv2d_10 (Conv2D)          (None, 15, 15, 64)        18496     \n",
            "                                                                 \n",
            " activation_16 (Activation)  (None, 15, 15, 64)        0         \n",
            "                                                                 \n",
            " conv2d_11 (Conv2D)          (None, 13, 13, 64)        36928     \n",
            "                                                                 \n",
            " activation_17 (Activation)  (None, 13, 13, 64)        0         \n",
            "                                                                 \n",
            " max_pooling2d_5 (MaxPooling  (None, 6, 6, 64)         0         \n",
            " 2D)                                                             \n",
            "                                                                 \n",
            " dropout_7 (Dropout)         (None, 6, 6, 64)          0         \n",
            "                                                                 \n",
            " conv2d_12 (Conv2D)          (None, 6, 6, 64)          36928     \n",
            "                                                                 \n",
            " activation_18 (Activation)  (None, 6, 6, 64)          0         \n",
            "                                                                 \n",
            " conv2d_13 (Conv2D)          (None, 4, 4, 64)          36928     \n",
            "                                                                 \n",
            " activation_19 (Activation)  (None, 4, 4, 64)          0         \n",
            "                                                                 \n",
            " max_pooling2d_6 (MaxPooling  (None, 2, 2, 64)         0         \n",
            " 2D)                                                             \n",
            "                                                                 \n",
            " dropout_8 (Dropout)         (None, 2, 2, 64)          0         \n",
            "                                                                 \n",
            " global_average_pooling2d_2   (None, 64)               0         \n",
            " (GlobalAveragePooling2D)                                        \n",
            "                                                                 \n",
            " dense_6 (Dense)             (None, 64)                4160      \n",
            "                                                                 \n",
            " activation_20 (Activation)  (None, 64)                0         \n",
            "                                                                 \n",
            " dense_7 (Dense)             (None, 32)                2080      \n",
            "                                                                 \n",
            " activation_21 (Activation)  (None, 32)                0         \n",
            "                                                                 \n",
            " dropout_9 (Dropout)         (None, 32)                0         \n",
            "                                                                 \n",
            " dense_8 (Dense)             (None, 10)                330       \n",
            "                                                                 \n",
            " activation_22 (Activation)  (None, 10)                0         \n",
            "                                                                 \n",
            "=================================================================\n",
            "Total params: 145,994\n",
            "Trainable params: 145,994\n",
            "Non-trainable params: 0\n",
            "_________________________________________________________________\n"
          ]
        }
      ],
      "source": [
        "# конфигурирование слоев нейросети\n",
        "model_3 = Sequential()\n",
        "\n",
        "# слои нейросети отвественные за свертку и max-pooling\n",
        "model_3.add(Conv2D(32, (3, 3), padding='same', input_shape=X_train.shape[1:]))\n",
        "model_3.add(Activation('relu'))\n",
        "model_3.add(Conv2D(32, (3, 3)))\n",
        "model_3.add(Activation('relu'))\n",
        "model_3.add(MaxPooling2D(pool_size=(2, 2)))\n",
        "model_3.add(Dropout(0.25))\n",
        "\n",
        "model_3.add(Conv2D(64, (3, 3), padding='same'))\n",
        "model_3.add(Activation('relu'))\n",
        "model_3.add(Conv2D(64, (3, 3)))\n",
        "model_3.add(Activation('relu'))\n",
        "model_3.add(MaxPooling2D(pool_size=(2, 2)))\n",
        "model_3.add(Dropout(0.25))\n",
        "\n",
        "model_3.add(Conv2D(64, (3, 3), padding='same'))\n",
        "model_3.add(Activation('relu'))\n",
        "model_3.add(Conv2D(64, (3, 3)))\n",
        "model_3.add(Activation('relu'))\n",
        "model_3.add(MaxPooling2D(pool_size=(2, 2)))\n",
        "model_3.add(Dropout(0.25))\n",
        "\n",
        "\n",
        "# полносвязные слои нейронной сети\n",
        "model_3.add(GlobalAveragePooling2D())\n",
        "model_3.add(Dense(64))\n",
        "model_3.add(Activation('relu'))\n",
        "model_3.add(Dense(32))\n",
        "model_3.add(Activation('relu'))\n",
        "model_3.add(Dropout(0.5))\n",
        "model_3.add(Dense(num_classes))\n",
        "model_3.add(Activation('softmax'))\n",
        "\n",
        "model_3.summary()\n",
        "# компиляция модели\n",
        "model_3.compile(loss='categorical_crossentropy',\n",
        "                optimizer='Adam',\n",
        "                metrics=['accuracy'])"
      ]
    },
    {
      "cell_type": "code",
      "execution_count": 17,
      "metadata": {
        "colab": {
          "base_uri": "https://localhost:8080/"
        },
        "id": "DPu843TQeY7N",
        "outputId": "3a0703d6-0e06-4a41-81c0-ccf0a9253967"
      },
      "outputs": [
        {
          "output_type": "stream",
          "name": "stdout",
          "text": [
            "Epoch 1/10\n",
            "782/782 [==============================] - 12s 10ms/step - loss: 2.0322 - accuracy: 0.2074 - val_loss: 1.7713 - val_accuracy: 0.3492\n",
            "Epoch 2/10\n",
            "782/782 [==============================] - 8s 10ms/step - loss: 1.6804 - accuracy: 0.3716 - val_loss: 1.4104 - val_accuracy: 0.4807\n",
            "Epoch 3/10\n",
            "782/782 [==============================] - 7s 9ms/step - loss: 1.5063 - accuracy: 0.4530 - val_loss: 1.2587 - val_accuracy: 0.5363\n",
            "Epoch 4/10\n",
            "782/782 [==============================] - 8s 10ms/step - loss: 1.3771 - accuracy: 0.5107 - val_loss: 1.1580 - val_accuracy: 0.5780\n",
            "Epoch 5/10\n",
            "782/782 [==============================] - 7s 10ms/step - loss: 1.2715 - accuracy: 0.5549 - val_loss: 1.0934 - val_accuracy: 0.6142\n",
            "Epoch 6/10\n",
            "782/782 [==============================] - 7s 9ms/step - loss: 1.1934 - accuracy: 0.5867 - val_loss: 1.0270 - val_accuracy: 0.6383\n",
            "Epoch 7/10\n",
            "782/782 [==============================] - 8s 10ms/step - loss: 1.1404 - accuracy: 0.6084 - val_loss: 0.9710 - val_accuracy: 0.6595\n",
            "Epoch 8/10\n",
            "782/782 [==============================] - 7s 9ms/step - loss: 1.0874 - accuracy: 0.6269 - val_loss: 0.9607 - val_accuracy: 0.6652\n",
            "Epoch 9/10\n",
            "782/782 [==============================] - 7s 9ms/step - loss: 1.0555 - accuracy: 0.6403 - val_loss: 0.8645 - val_accuracy: 0.7032\n",
            "Epoch 10/10\n",
            "782/782 [==============================] - 8s 10ms/step - loss: 1.0151 - accuracy: 0.6561 - val_loss: 0.8471 - val_accuracy: 0.7072\n"
          ]
        }
      ],
      "source": [
        "history_3 = model_3.fit(X_train, y_train,\n",
        "                        batch_size=batch_size,\n",
        "                        epochs=epochs,\n",
        "                        validation_data=(X_test, y_test))"
      ]
    },
    {
      "cell_type": "code",
      "execution_count": 18,
      "metadata": {
        "colab": {
          "base_uri": "https://localhost:8080/"
        },
        "id": "Ui5vBax_eevM",
        "outputId": "c042cf06-ceac-4da4-e4a6-e39042abead9"
      },
      "outputs": [
        {
          "output_type": "stream",
          "name": "stdout",
          "text": [
            "1563/1563 - 4s - loss: 0.7526 - accuracy: 0.7325 - 4s/epoch - 3ms/step\n",
            "313/313 - 1s - loss: 0.8471 - accuracy: 0.7072 - 875ms/epoch - 3ms/step\n",
            "train_loss: 0.7525957822799683, train_accuracy: 0.732479989528656\n",
            "test_loss: 0.8470882773399353, test_accuracy: 0.7071999907493591\n"
          ]
        }
      ],
      "source": [
        "train_loss, train_m = model_3.evaluate(X_train, y_train, verbose=2)\n",
        "test_loss, test_m = model_3.evaluate(X_test, y_test, verbose=2)\n",
        "print(f'train_loss: {train_loss}, train_accuracy: {train_m}')\n",
        "print(f'test_loss: {test_loss}, test_accuracy: {test_m}')\n",
        "\n",
        "step.append(3)\n",
        "desc.append('Глубже - больше слоев')\n",
        "train_acc.append(round(train_m,2))\n",
        "test_acc.append(round(test_m,2))"
      ]
    },
    {
      "cell_type": "code",
      "execution_count": 19,
      "metadata": {
        "colab": {
          "base_uri": "https://localhost:8080/",
          "height": 469
        },
        "id": "w_AFSwBFeiu9",
        "outputId": "d6b7f1ac-ef6f-4771-f19b-3553102da8c0"
      },
      "outputs": [
        {
          "output_type": "stream",
          "name": "stdout",
          "text": [
            "1/1 [==============================] - 0s 211ms/step\n"
          ]
        },
        {
          "output_type": "display_data",
          "data": {
            "text/plain": [
              "<Figure size 640x480 with 1 Axes>"
            ],
            "image/png": "[encoded data removed]"
          },
          "metadata": {}
        }
      ],
      "source": [
        "N = 20\n",
        "y_p = model_3.predict(X_test[N:N+1])\n",
        "y_t = np.argmax(y_test[N:N+1], axis = 1 )\n",
        "y_i = np.argmax(y_p, axis = 1 )\n",
        "plt.imshow(X_test[N])\n",
        "plt.title(f'это : {classes[y_t[0]]} - опознан как : {classes[y_i[0]]}')\n",
        "plt.show()"
      ]
    },
    {
      "cell_type": "markdown",
      "metadata": {
        "id": "rIui_vzwem10"
      },
      "source": [
        "### 4. Полносвязная сеть для этой выборки"
      ]
    },
    {
      "cell_type": "code",
      "execution_count": 20,
      "metadata": {
        "colab": {
          "base_uri": "https://localhost:8080/"
        },
        "id": "YLeukSj8ew25",
        "outputId": "74b55029-a70c-489a-f8b9-c12ca79ce230"
      },
      "outputs": [
        {
          "output_type": "stream",
          "name": "stdout",
          "text": [
            "Model: \"sequential_3\"\n",
            "_________________________________________________________________\n",
            " Layer (type)                Output Shape              Param #   \n",
            "=================================================================\n",
            " flatten (Flatten)           (None, 3072)              0         \n",
            "                                                                 \n",
            " dense_9 (Dense)             (None, 512)               1573376   \n",
            "                                                                 \n",
            " activation_23 (Activation)  (None, 512)               0         \n",
            "                                                                 \n",
            " dense_10 (Dense)            (None, 256)               131328    \n",
            "                                                                 \n",
            " activation_24 (Activation)  (None, 256)               0         \n",
            "                                                                 \n",
            " dropout_10 (Dropout)        (None, 256)               0         \n",
            "                                                                 \n",
            " dense_11 (Dense)            (None, 10)                2570      \n",
            "                                                                 \n",
            " activation_25 (Activation)  (None, 10)                0         \n",
            "                                                                 \n",
            "=================================================================\n",
            "Total params: 1,707,274\n",
            "Trainable params: 1,707,274\n",
            "Non-trainable params: 0\n",
            "_________________________________________________________________\n"
          ]
        }
      ],
      "source": [
        "# конфигурирование слоев нейросети\n",
        "model_4 = Sequential()\n",
        "\n",
        "# полносвязные слои нейронной сети\n",
        "model_4.add(Flatten(input_shape=X_train.shape[1:]))\n",
        "model_4.add(Dense(512))\n",
        "model_4.add(Activation('relu'))\n",
        "model_4.add(Dense(256))\n",
        "model_4.add(Activation('relu'))\n",
        "model_4.add(Dropout(0.5))\n",
        "model_4.add(Dense(num_classes))\n",
        "model_4.add(Activation('softmax'))\n",
        "\n",
        "model_4.summary()\n",
        "# компиляция модели\n",
        "model_4.compile(loss='categorical_crossentropy',\n",
        "                optimizer='Adam',\n",
        "                metrics=['accuracy'])"
      ]
    },
    {
      "cell_type": "code",
      "execution_count": 21,
      "metadata": {
        "colab": {
          "base_uri": "https://localhost:8080/"
        },
        "id": "Ir53z_Y0hfOc",
        "outputId": "3b5d20d1-06f2-4ccd-bc0f-e92b76d51d3e"
      },
      "outputs": [
        {
          "output_type": "stream",
          "name": "stdout",
          "text": [
            "Epoch 1/10\n",
            "782/782 [==============================] - 5s 5ms/step - loss: 2.0012 - accuracy: 0.2735 - val_loss: 1.7885 - val_accuracy: 0.3623\n",
            "Epoch 2/10\n",
            "782/782 [==============================] - 3s 4ms/step - loss: 1.7890 - accuracy: 0.3588 - val_loss: 1.6716 - val_accuracy: 0.4024\n",
            "Epoch 3/10\n",
            "782/782 [==============================] - 3s 4ms/step - loss: 1.7161 - accuracy: 0.3847 - val_loss: 1.6598 - val_accuracy: 0.4006\n",
            "Epoch 4/10\n",
            "782/782 [==============================] - 3s 4ms/step - loss: 1.6585 - accuracy: 0.4039 - val_loss: 1.6040 - val_accuracy: 0.4215\n",
            "Epoch 5/10\n",
            "782/782 [==============================] - 3s 4ms/step - loss: 1.6269 - accuracy: 0.4186 - val_loss: 1.5664 - val_accuracy: 0.4440\n",
            "Epoch 6/10\n",
            "782/782 [==============================] - 3s 4ms/step - loss: 1.5993 - accuracy: 0.4294 - val_loss: 1.5539 - val_accuracy: 0.4429\n",
            "Epoch 7/10\n",
            "782/782 [==============================] - 4s 4ms/step - loss: 1.5793 - accuracy: 0.4374 - val_loss: 1.5196 - val_accuracy: 0.4592\n",
            "Epoch 8/10\n",
            "782/782 [==============================] - 3s 4ms/step - loss: 1.5578 - accuracy: 0.4426 - val_loss: 1.5248 - val_accuracy: 0.4617\n",
            "Epoch 9/10\n",
            "782/782 [==============================] - 3s 4ms/step - loss: 1.5472 - accuracy: 0.4495 - val_loss: 1.5026 - val_accuracy: 0.4629\n",
            "Epoch 10/10\n",
            "782/782 [==============================] - 3s 4ms/step - loss: 1.5332 - accuracy: 0.4529 - val_loss: 1.5202 - val_accuracy: 0.4561\n"
          ]
        }
      ],
      "source": [
        "history_4 = model_4.fit(X_train, y_train,\n",
        "                        batch_size=batch_size,\n",
        "                        epochs=epochs,\n",
        "                        validation_data=(X_test, y_test))"
      ]
    },
    {
      "cell_type": "code",
      "execution_count": 22,
      "metadata": {
        "colab": {
          "base_uri": "https://localhost:8080/"
        },
        "id": "vOTj4lwDhkaG",
        "outputId": "7a03aea9-c32e-44f9-8f7c-d97fb8b7bec3"
      },
      "outputs": [
        {
          "output_type": "stream",
          "name": "stdout",
          "text": [
            "1563/1563 - 3s - loss: 1.4598 - accuracy: 0.4725 - 3s/epoch - 2ms/step\n",
            "313/313 - 1s - loss: 1.5202 - accuracy: 0.4561 - 636ms/epoch - 2ms/step\n",
            "train_loss: 1.459792137145996, train_accuracy: 0.47247999906539917\n",
            "test_loss: 1.5202207565307617, test_accuracy: 0.4560999870300293\n"
          ]
        }
      ],
      "source": [
        "train_loss, train_m = model_4.evaluate(X_train, y_train, verbose=2)\n",
        "test_loss, test_m = model_4.evaluate(X_test, y_test, verbose=2)\n",
        "print(f'train_loss: {train_loss}, train_accuracy: {train_m}')\n",
        "print(f'test_loss: {test_loss}, test_accuracy: {test_m}')\n",
        "\n",
        "step.append(4)\n",
        "desc.append('Полносвязная сеть')\n",
        "train_acc.append(round(train_m,2))\n",
        "test_acc.append(round(test_m,2))"
      ]
    },
    {
      "cell_type": "code",
      "execution_count": 23,
      "metadata": {
        "colab": {
          "base_uri": "https://localhost:8080/",
          "height": 469
        },
        "id": "b5k4l5Vvhop6",
        "outputId": "5da44c29-5803-4309-f3b2-2736d31f1488"
      },
      "outputs": [
        {
          "output_type": "stream",
          "name": "stdout",
          "text": [
            "1/1 [==============================] - 0s 56ms/step\n"
          ]
        },
        {
          "output_type": "display_data",
          "data": {
            "text/plain": [
              "<Figure size 640x480 with 1 Axes>"
            ],
            "image/png": "[encoded data removed]"
          },
          "metadata": {}
        }
      ],
      "source": [
        "N = 25\n",
        "y_p = model_4.predict(X_test[N:N+1])\n",
        "y_t = np.argmax(y_test[N:N+1], axis = 1 )\n",
        "y_i = np.argmax(y_p, axis = 1 )\n",
        "plt.imshow(X_test[N])\n",
        "plt.title(f'это : {classes[y_t[0]]} - опознан как : {classes[y_i[0]]}')\n",
        "plt.show()"
      ]
    },
    {
      "cell_type": "code",
      "execution_count": 24,
      "metadata": {
        "id": "g7HNLSixy6F7"
      },
      "outputs": [],
      "source": [
        "results['step'] = step\n",
        "results['desc'] = desc\n",
        "results['train_acc'] = train_acc\n",
        "results['test_acc'] = test_acc"
      ]
    },
    {
      "cell_type": "code",
      "execution_count": 25,
      "metadata": {
        "colab": {
          "base_uri": "https://localhost:8080/",
          "height": 175
        },
        "id": "k-ssY_2GzRmv",
        "outputId": "21cff157-e950-4622-814a-e202a194c601"
      },
      "outputs": [
        {
          "output_type": "execute_result",
          "data": {
            "text/plain": [
              "   step                   desc  train_acc  test_acc\n",
              "0     1         Базовая модель       0.61      0.60\n",
              "1     2  Шире - больше каналов       0.72      0.70\n",
              "2     3  Глубже - больше слоев       0.73      0.71\n",
              "3     4      Полносвязная сеть       0.47      0.46"
            ],
            "text/html": [
              "\n",
              "\n",
              "  <div id=\"df-41f93c6b-30ee-4454-9289-a162275f6470\">\n",
              "    <div class=\"colab-df-container\">\n",
              "      <div>\n",
              "<style scoped>\n",
              "    .dataframe tbody tr th:only-of-type {\n",
              "        vertical-align: middle;\n",
              "    }\n",
              "\n",
              "    .dataframe tbody tr th {\n",
              "        vertical-align: top;\n",
              "    }\n",
              "\n",
              "    .dataframe thead th {\n",
              "        text-align: right;\n",
              "    }\n",
              "</style>\n",
              "<table border=\"1\" class=\"dataframe\">\n",
              "  <thead>\n",
              "    <tr style=\"text-align: right;\">\n",
              "      <th></th>\n",
              "      <th>step</th>\n",
              "      <th>desc</th>\n",
              "      <th>train_acc</th>\n",
              "      <th>test_acc</th>\n",
              "    </tr>\n",
              "  </thead>\n",
              "  <tbody>\n",
              "    <tr>\n",
              "      <th>0</th>\n",
              "      <td>1</td>\n",
              "      <td>Базовая модель</td>\n",
              "      <td>0.61</td>\n",
              "      <td>0.60</td>\n",
              "    </tr>\n",
              "    <tr>\n",
              "      <th>1</th>\n",
              "      <td>2</td>\n",
              "      <td>Шире - больше каналов</td>\n",
              "      <td>0.72</td>\n",
              "      <td>0.70</td>\n",
              "    </tr>\n",
              "    <tr>\n",
              "      <th>2</th>\n",
              "      <td>3</td>\n",
              "      <td>Глубже - больше слоев</td>\n",
              "      <td>0.73</td>\n",
              "      <td>0.71</td>\n",
              "    </tr>\n",
              "    <tr>\n",
              "      <th>3</th>\n",
              "      <td>4</td>\n",
              "      <td>Полносвязная сеть</td>\n",
              "      <td>0.47</td>\n",
              "      <td>0.46</td>\n",
              "    </tr>\n",
              "  </tbody>\n",
              "</table>\n",
              "</div>\n",
              "      <button class=\"colab-df-convert\" onclick=\"convertToInteractive('df-41f93c6b-30ee-4454-9289-a162275f6470')\"\n",
              "              title=\"Convert this dataframe to an interactive table.\"\n",
              "              style=\"display:none;\">\n",
              "\n",
              "  <svg xmlns=\"http://www.w3.org/2000/svg\" height=\"24px\"viewBox=\"0 0 24 24\"\n",
              "       width=\"24px\">\n",
              "    <path d=\"M0 0h24v24H0V0z\" fill=\"none\"/>\n",
              "    <path d=\"M18.56 5.44l.94 2.06.94-2.06 2.06-.94-2.06-.94-.94-2.06-.94 2.06-2.06.94zm-11 1L8.5 8.5l.94-2.06 2.06-.94-2.06-.94L8.5 2.5l-.94 2.06-2.06.94zm10 10l.94 2.06.94-2.06 2.06-.94-2.06-.94-.94-2.06-.94 2.06-2.06.94z\"/><path d=\"M17.41 7.96l-1.37-1.37c-.4-.4-.92-.59-1.43-.59-.52 0-1.04.2-1.43.59L10.3 9.45l-7.72 7.72c-.78.78-.78 2.05 0 2.83L4 21.41c.39.39.9.59 1.41.59.51 0 1.02-.2 1.41-.59l7.78-7.78 2.81-2.81c.8-.78.8-2.07 0-2.86zM5.41 20L4 18.59l7.72-7.72 1.47 1.35L5.41 20z\"/>\n",
              "  </svg>\n",
              "      </button>\n",
              "\n",
              "\n",
              "\n",
              "    <div id=\"df-07f7289c-2ea8-4917-ac76-6200c51cf6fc\">\n",
              "      <button class=\"colab-df-quickchart\" onclick=\"quickchart('df-07f7289c-2ea8-4917-ac76-6200c51cf6fc')\"\n",
              "              title=\"Suggest charts.\"\n",
              "              style=\"display:none;\">\n",
              "\n",
              "<svg xmlns=\"http://www.w3.org/2000/svg\" height=\"24px\"viewBox=\"0 0 24 24\"\n",
              "     width=\"24px\">\n",
              "    <g>\n",
              "        <path d=\"M19 3H5c-1.1 0-2 .9-2 2v14c0 1.1.9 2 2 2h14c1.1 0 2-.9 2-2V5c0-1.1-.9-2-2-2zM9 17H7v-7h2v7zm4 0h-2V7h2v10zm4 0h-2v-4h2v4z\"/>\n",
              "    </g>\n",
              "</svg>\n",
              "      </button>\n",
              "    </div>\n",
              "\n",
              "<style>\n",
              "  .colab-df-quickchart {\n",
              "    background-color: #E8F0FE;\n",
              "    border: none;\n",
              "    border-radius: 50%;\n",
              "    cursor: pointer;\n",
              "    display: none;\n",
              "    fill: #1967D2;\n",
              "    height: 32px;\n",
              "    padding: 0 0 0 0;\n",
              "    width: 32px;\n",
              "  }\n",
              "\n",
              "  .colab-df-quickchart:hover {\n",
              "    background-color: #E2EBFA;\n",
              "    box-shadow: 0px 1px 2px rgba(60, 64, 67, 0.3), 0px 1px 3px 1px rgba(60, 64, 67, 0.15);\n",
              "    fill: #174EA6;\n",
              "  }\n",
              "\n",
              "  [theme=dark] .colab-df-quickchart {\n",
              "    background-color: #3B4455;\n",
              "    fill: #D2E3FC;\n",
              "  }\n",
              "\n",
              "  [theme=dark] .colab-df-quickchart:hover {\n",
              "    background-color: #434B5C;\n",
              "    box-shadow: 0px 1px 3px 1px rgba(0, 0, 0, 0.15);\n",
              "    filter: drop-shadow(0px 1px 2px rgba(0, 0, 0, 0.3));\n",
              "    fill: #FFFFFF;\n",
              "  }\n",
              "</style>\n",
              "\n",
              "    <script>\n",
              "      async function quickchart(key) {\n",
              "        const containerElement = document.querySelector('#' + key);\n",
              "        const charts = await google.colab.kernel.invokeFunction(\n",
              "            'suggestCharts', [key], {});\n",
              "      }\n",
              "    </script>\n",
              "\n",
              "      <script>\n",
              "\n",
              "function displayQuickchartButton(domScope) {\n",
              "  let quickchartButtonEl =\n",
              "    domScope.querySelector('#df-07f7289c-2ea8-4917-ac76-6200c51cf6fc button.colab-df-quickchart');\n",
              "  quickchartButtonEl.style.display =\n",
              "    google.colab.kernel.accessAllowed ? 'block' : 'none';\n",
              "}\n",
              "\n",
              "        displayQuickchartButton(document);\n",
              "      </script>\n",
              "      <style>\n",
              "    .colab-df-container {\n",
              "      display:flex;\n",
              "      flex-wrap:wrap;\n",
              "      gap: 12px;\n",
              "    }\n",
              "\n",
              "    .colab-df-convert {\n",
              "      background-color: #E8F0FE;\n",
              "      border: none;\n",
              "      border-radius: 50%;\n",
              "      cursor: pointer;\n",
              "      display: none;\n",
              "      fill: #1967D2;\n",
              "      height: 32px;\n",
              "      padding: 0 0 0 0;\n",
              "      width: 32px;\n",
              "    }\n",
              "\n",
              "    .colab-df-convert:hover {\n",
              "      background-color: #E2EBFA;\n",
              "      box-shadow: 0px 1px 2px rgba(60, 64, 67, 0.3), 0px 1px 3px 1px rgba(60, 64, 67, 0.15);\n",
              "      fill: #174EA6;\n",
              "    }\n",
              "\n",
              "    [theme=dark] .colab-df-convert {\n",
              "      background-color: #3B4455;\n",
              "      fill: #D2E3FC;\n",
              "    }\n",
              "\n",
              "    [theme=dark] .colab-df-convert:hover {\n",
              "      background-color: #434B5C;\n",
              "      box-shadow: 0px 1px 3px 1px rgba(0, 0, 0, 0.15);\n",
              "      filter: drop-shadow(0px 1px 2px rgba(0, 0, 0, 0.3));\n",
              "      fill: #FFFFFF;\n",
              "    }\n",
              "  </style>\n",
              "\n",
              "      <script>\n",
              "        const buttonEl =\n",
              "          document.querySelector('#df-41f93c6b-30ee-4454-9289-a162275f6470 button.colab-df-convert');\n",
              "        buttonEl.style.display =\n",
              "          google.colab.kernel.accessAllowed ? 'block' : 'none';\n",
              "\n",
              "        async function convertToInteractive(key) {\n",
              "          const element = document.querySelector('#df-41f93c6b-30ee-4454-9289-a162275f6470');\n",
              "          const dataTable =\n",
              "            await google.colab.kernel.invokeFunction('convertToInteractive',\n",
              "                                                     [key], {});\n",
              "          if (!dataTable) return;\n",
              "\n",
              "          const docLinkHtml = 'Like what you see? Visit the ' +\n",
              "            '<a target=\"_blank\" href=https://colab.research.google.com/notebooks/data_table.ipynb>data table notebook</a>'\n",
              "            + ' to learn more about interactive tables.';\n",
              "          element.innerHTML = '';\n",
              "          dataTable['output_type'] = 'display_data';\n",
              "          await google.colab.output.renderOutput(dataTable, element);\n",
              "          const docLink = document.createElement('div');\n",
              "          docLink.innerHTML = docLinkHtml;\n",
              "          element.appendChild(docLink);\n",
              "        }\n",
              "      </script>\n",
              "    </div>\n",
              "  </div>\n"
            ]
          },
          "metadata": {},
          "execution_count": 25
        }
      ],
      "source": [
        "results"
      ]
    },
    {
      "cell_type": "markdown",
      "metadata": {
        "id": "jNyOFmil3eUR"
      },
      "source": [
        "### Выводы:<br>\n",
        "* увеличение количества каналов, т.е. увеличение итогового количества признаков, увеличило значение метрики;\n",
        "* увеличение глубины сети тоже увеличило метрику качества, но это всё равно ниже, чем с большом кол-вом каналов;\n",
        "* полносвязная сеть без сверточных слоев показывает качество ниже, чем базовая модель со сверточными слоями."
      ]
    }
  ],
  "metadata": {
    "accelerator": "GPU",
    "colab": {
      "provenance": []
    },
    "kernelspec": {
      "display_name": "Python 3 (ipykernel)",
      "language": "python",
      "name": "python3"
    },
    "language_info": {
      "codemirror_mode": {
        "name": "ipython",
        "version": 3
      },
      "file_extension": ".py",
      "mimetype": "text/x-python",
      "name": "python",
      "nbconvert_exporter": "python",
      "pygments_lexer": "ipython3",
      "version": "3.9.16"
    }
  },
  "nbformat": 4,
  "nbformat_minor": 0
}