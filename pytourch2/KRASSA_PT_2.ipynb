{
  "cells": [
    {
      "cell_type": "markdown",
      "metadata": {
        "id": "sC_CmQRh8AMj"
      },
      "source": [
        "# дефол"
      ]
    },
    {
      "cell_type": "code",
      "execution_count": 1,
      "metadata": {
        "id": "1DfCeNwS8AMn"
      },
      "outputs": [],
      "source": [
        "# Сделаем необходимые импорты\n",
        "import torch\n",
        "import numpy as np\n",
        "import torch.nn.functional as F\n",
        "from torch import nn\n",
        "import torchvision\n",
        "import matplotlib.pyplot as plt\n",
        "import torchvision.transforms as transforms\n",
        "from torch import optim\n",
        "from IPython.display import clear_output\n",
        "import time"
      ]
    },
    {
      "cell_type": "code",
      "execution_count": 2,
      "metadata": {
        "colab": {
          "base_uri": "https://localhost:8080/"
        },
        "id": "_Vt37Ber8AMp",
        "outputId": "3936fa68-2f0e-49a2-fe84-982a8208932c"
      },
      "outputs": [
        {
          "output_type": "stream",
          "name": "stdout",
          "text": [
            "Downloading https://www.cs.toronto.edu/~kriz/cifar-10-python.tar.gz to data/cifar-10-python.tar.gz\n"
          ]
        },
        {
          "output_type": "stream",
          "name": "stderr",
          "text": [
            "100%|██████████| 170498071/170498071 [00:02<00:00, 60449480.64it/s]\n"
          ]
        },
        {
          "output_type": "stream",
          "name": "stdout",
          "text": [
            "Extracting data/cifar-10-python.tar.gz to data/\n",
            "Files already downloaded and verified\n"
          ]
        }
      ],
      "source": [
        "# Загрузим датасет CIFAR-100, сразу же создадим dataloader для него\n",
        "\n",
        "train_dataset = torchvision.datasets.CIFAR10(root='data/',\n",
        "                                             train=True,\n",
        "                                             transform=transforms.ToTensor(),\n",
        "                                             download=True)\n",
        "train_loader = torch.utils.data.DataLoader(dataset=train_dataset,\n",
        "                                           batch_size=64,\n",
        "                                           shuffle=True)\n",
        "\n",
        "\n",
        "test_dataset = torchvision.datasets.CIFAR10(root='./data',\n",
        "                                            train=False,\n",
        "                                            transform=transforms.ToTensor(),\n",
        "                                            download=True,)\n",
        "test_loader = torch.utils.data.DataLoader(test_dataset,\n",
        "                                          batch_size=8,\n",
        "                                          shuffle=False)\n",
        "\n",
        "classes = ('plane', 'car', 'bird', 'cat',\n",
        "           'deer', 'dog', 'frog', 'horse', 'ship', 'truck')"
      ]
    },
    {
      "cell_type": "code",
      "execution_count": 3,
      "metadata": {
        "id": "m1KyJYR88AMq"
      },
      "outputs": [],
      "source": [
        "# Создаем класс для нашей архитектуры и наследуем его от nn.Module\n",
        "class Net(nn.Module):\n",
        "    # Определяем входной, скрытый и выходной слои с помощью линейных слоев nn.Linear()\n",
        "    def __init__(self, input_dim, hidden_dim, output_dim):\n",
        "        super().__init__()\n",
        "        self.fc1 = nn.Linear(input_dim, 4 * hidden_dim)\n",
        "        self.fc2 = nn.Linear(4 * hidden_dim, 2 * hidden_dim)\n",
        "        self.fc3 = nn.Linear(2 * hidden_dim, hidden_dim)\n",
        "        self.fc4 = nn.Linear(hidden_dim, output_dim)\n",
        "\n",
        "    # Каждый следующий слой использует выход предыдущего слоя как вход\n",
        "    # Функция активации - LeakyReLU\n",
        "    def forward(self, x):\n",
        "        x = x.view(x.shape[0], -1) # reshape\n",
        "        x = self.fc1(x)            # внутренний полносвязный линейный слой\n",
        "        x = F.leaky_relu(x)        # функция активации\n",
        "        x = self.fc2(x)\n",
        "        x = F.leaky_relu(x)\n",
        "        x = self.fc3(x)\n",
        "        x = F.leaky_relu(x)\n",
        "        x = self.fc4(x)\n",
        "        return x                   # Возвращаем выход последнего слоя -> подсчет ошибки\n",
        "\n",
        "    # Добавляем метод predict для получения предсказания на основе выхода последнего слоя с применением функции Softmax\n",
        "    def predict(self, x):\n",
        "        x = x.view(x.shape[0], -1)\n",
        "        x = self.fc1(x)\n",
        "        x = F.leaky_relu(x)\n",
        "        x = self.fc2(x)\n",
        "        x = F.leaky_relu(x)\n",
        "        x = self.fc3(x)\n",
        "        x = F.leaky_relu(x)\n",
        "        x = self.fc4(x)\n",
        "        x = F.softmax(x)           # Предсказание - вероятность класса\n",
        "        return x\n",
        "\n",
        "def get_model(net = Net(3072, 100, 10), t_o = 12, show_the_learning_process = 0):\n",
        "  # Устанавливаем режим обучения\n",
        "  net.train()\n",
        "\n",
        "  # Определяем критерий (функцию потерь) - многоклассовую перекрестную энтропию\n",
        "  criterion = nn.CrossEntropyLoss()   #  много-классовая перекрестная кросс-энтропия\n",
        "\n",
        "  # Список оптимизаторов\n",
        "  torch_optimizer = [optim.Adadelta(net.parameters(), lr=0.01),\n",
        "                     optim.Adagrad(net.parameters(), lr=0.01),\n",
        "                     optim.Adam(net.parameters(), lr=0.01),\n",
        "                     optim.AdamW(net.parameters(), lr=0.01),\n",
        "                     optim.SparseAdam(net.parameters(), lr=0.01),\n",
        "                     optim.Adamax(net.parameters(), lr=0.01),\n",
        "                     optim.ASGD(net.parameters(), lr=0.01),\n",
        "                     optim.LBFGS(net.parameters(), lr=0.01),\n",
        "                     optim.NAdam(net.parameters(), lr=0.01),\n",
        "                     optim.RAdam(net.parameters(), lr=0.01),\n",
        "                     optim.RMSprop(net.parameters(), lr=0.01, momentum=0.0),\n",
        "                     optim.Rprop(net.parameters(), lr=0.01),\n",
        "                     optim.SGD(net.parameters(), lr=0.01, momentum=0.0)]\n",
        "\n",
        "  # Определяем оптимизатор - SGD (стохастический градиентный спуск) с параметрами скорости обучения (lr) 0.01 и моментумом 0.0\n",
        "  optimizer = torch_optimizer[t_o]\n",
        "\n",
        "  # Определяем количество эпох обучения (5)\n",
        "  num_epochs = 5\n",
        "\n",
        "  # В цикле проходим по обучающей выборке и обновляем веса\n",
        "  for epoch in range(num_epochs):\n",
        "      running_loss = 0.0\n",
        "      running_items = 0.0\n",
        "\n",
        "      for i, data in enumerate(train_loader):\n",
        "          inputs, labels = data[0], data[1]\n",
        "\n",
        "          # Обнуляем градиент перед вычислением лосса и шагом обновления весов\n",
        "          optimizer.zero_grad()\n",
        "          # Делаем предсказание\n",
        "          outputs = net(inputs)\n",
        "          # Вычисляем лосс-функцию на обучающей выборке\n",
        "          loss = criterion(outputs, labels)\n",
        "          # Делаем шаг назад по лоссу\n",
        "          loss.backward()\n",
        "          # Считаем градиент для каждого веса в нейронной сети и делаем шаг обновления весов с помощью optimizer.step()\n",
        "          optimizer.step()\n",
        "\n",
        "          # выводим статистику о процессе обучения\n",
        "          running_loss += loss.item()\n",
        "          running_items += len(labels)\n",
        "\n",
        "          if show_the_learning_process == 1:\n",
        "            # Выводим статистику обучения после каждых 300 mini-batches\n",
        "            if i % 300 == 0:\n",
        "                print(f'Epoch [{epoch + 1}/{num_epochs}]. ' \\\n",
        "                      f'Step [{i + 1}/{len(train_loader)}]. ' \\\n",
        "                      f'Loss: {running_loss / running_items:.3f}')\n",
        "                running_loss, running_items = 0.0, 0.0\n",
        "  if show_the_learning_process == 1:\n",
        "    print('Training is finished!')\n",
        "  return net\n",
        "\n",
        "# Вычисляем точность предсказания на обучающей выборке в конце обучения\n",
        "def check_model(net):\n",
        "  result = []\n",
        "  for i, data in enumerate(train_loader):\n",
        "    inputs, labels = data[0], data[1]\n",
        "    predicted = torch.max(net(inputs), 1).indices\n",
        "    result.append(int((predicted == labels).sum())/len(labels))\n",
        "\n",
        "  # Возвращаем среднюю точность предсказания\n",
        "  print(f'Средняя точность составляет: {sum(result)/len(result)}')\n",
        "  return sum(result)/len(result)"
      ]
    },
    {
      "cell_type": "markdown",
      "metadata": {
        "id": "I3gx1yyEe-wt"
      },
      "source": [
        "Оценка модели из урока"
      ]
    },
    {
      "cell_type": "code",
      "execution_count": 4,
      "metadata": {
        "colab": {
          "base_uri": "https://localhost:8080/"
        },
        "id": "wI3LgBoVe0on",
        "outputId": "7a1057a9-8d7e-45ea-b45a-4f8efa28ca7b"
      },
      "outputs": [
        {
          "output_type": "stream",
          "name": "stdout",
          "text": [
            "Epoch [1/5]. Step [1/782]. Loss: 0.036\n",
            "Epoch [1/5]. Step [301/782]. Loss: 0.036\n",
            "Epoch [1/5]. Step [601/782]. Loss: 0.035\n",
            "Epoch [2/5]. Step [1/782]. Loss: 0.033\n",
            "Epoch [2/5]. Step [301/782]. Loss: 0.032\n",
            "Epoch [2/5]. Step [601/782]. Loss: 0.032\n",
            "Epoch [3/5]. Step [1/782]. Loss: 0.032\n",
            "Epoch [3/5]. Step [301/782]. Loss: 0.030\n",
            "Epoch [3/5]. Step [601/782]. Loss: 0.030\n",
            "Epoch [4/5]. Step [1/782]. Loss: 0.028\n",
            "Epoch [4/5]. Step [301/782]. Loss: 0.029\n",
            "Epoch [4/5]. Step [601/782]. Loss: 0.029\n",
            "Epoch [5/5]. Step [1/782]. Loss: 0.031\n",
            "Epoch [5/5]. Step [301/782]. Loss: 0.028\n",
            "Epoch [5/5]. Step [601/782]. Loss: 0.028\n",
            "Training is finished!\n",
            "Средняя точность составляет: 0.36514945652173914\n"
          ]
        }
      ],
      "source": [
        "model = get_model(show_the_learning_process=1)\n",
        "r = check_model(model)"
      ]
    },
    {
      "cell_type": "markdown",
      "metadata": {
        "id": "SNmE9Yg-dDDp"
      },
      "source": [
        "# Оптимизатор\n",
        "Найдем оптимизатор с лучшими результатами"
      ]
    },
    {
      "cell_type": "code",
      "execution_count": 5,
      "metadata": {
        "id": "CCb1VWa2KF_j",
        "colab": {
          "base_uri": "https://localhost:8080/",
          "height": 478
        },
        "outputId": "a7cd95d2-bf3a-4b6c-df10-840153b7b9ac"
      },
      "outputs": [
        {
          "output_type": "display_data",
          "data": {
            "text/plain": [
              "<Figure size 640x480 with 1 Axes>"
            ],
            "image/png": "[encoded data removed]"
          },
          "metadata": {}
        }
      ],
      "source": [
        "name_optimizer_list = ['Adadelta', 'Adagrad', 'Adam', 'AdamW', 'SparseAdam', 'Adamax', 'ASGD', 'LBFGS', 'NAdam', 'RAdam', 'RMSprop', 'Rprop', 'SGD']\n",
        "result = []\n",
        "t = []\n",
        "for i, name_optimizer in enumerate(name_optimizer_list):\n",
        "  clear_output(wait=True)\n",
        "  print(f'Тест {i} из {len(name_optimizer_list)}\\nПредпологаемое время ожидания: {round((sum(t)/len(t))*(len(name_optimizer_list)-i)) if len(t) !=0 else \"...\"}')\n",
        "  start = time.time()\n",
        "\n",
        "  try:\n",
        "    model = get_model(t_o = i)\n",
        "    result.append([name_optimizer, check_model(model)])\n",
        "  except Exception as error:\n",
        "    result.append([name_optimizer, error])\n",
        "\n",
        "  end = time.time()\n",
        "  t.append(end-start)\n",
        "\n",
        "clear_output(wait=True)\n",
        "\n",
        "x = [value[0] for value in result if type(value[1]) == float]\n",
        "y = [round(value[1], 2) for value in result if type(value[1]) == float]\n",
        "plt.bar(x, y)\n",
        "for index, value in enumerate(y):\n",
        "    plt.text(index-0.35, value+0.005, str(value))\n",
        "plt.xticks(rotation=90);\n",
        "\n",
        "best_optimizer = name_optimizer_list.index(x[np.array(y).argmax()])"
      ]
    },
    {
      "cell_type": "markdown",
      "metadata": {
        "id": "_oC0TgbHdrnY"
      },
      "source": [
        "# Слои\n",
        "Попробуем увеличить колличество слоев"
      ]
    },
    {
      "cell_type": "code",
      "execution_count": 6,
      "metadata": {
        "id": "E-Ppw4J6dv-_",
        "colab": {
          "base_uri": "https://localhost:8080/"
        },
        "outputId": "15d5dd98-ee40-44d7-d74e-f948cb04ab44"
      },
      "outputs": [
        {
          "output_type": "stream",
          "name": "stdout",
          "text": [
            "Files already downloaded and verified\n",
            "Files already downloaded and verified\n",
            "Epoch [1/5]. Step [1/782]. Loss: 0.036\n",
            "Epoch [1/5]. Step [301/782]. Loss: 0.036\n",
            "Epoch [1/5]. Step [601/782]. Loss: 0.036\n",
            "Epoch [2/5]. Step [1/782]. Loss: 0.036\n",
            "Epoch [2/5]. Step [301/782]. Loss: 0.036\n",
            "Epoch [2/5]. Step [601/782]. Loss: 0.036\n",
            "Epoch [3/5]. Step [1/782]. Loss: 0.036\n",
            "Epoch [3/5]. Step [301/782]. Loss: 0.036\n",
            "Epoch [3/5]. Step [601/782]. Loss: 0.036\n",
            "Epoch [4/5]. Step [1/782]. Loss: 0.035\n",
            "Epoch [4/5]. Step [301/782]. Loss: 0.035\n",
            "Epoch [4/5]. Step [601/782]. Loss: 0.033\n",
            "Epoch [5/5]. Step [1/782]. Loss: 0.032\n",
            "Epoch [5/5]. Step [301/782]. Loss: 0.032\n",
            "Epoch [5/5]. Step [601/782]. Loss: 0.032\n",
            "Training is finished!\n",
            "Средняя точность составляет: 0.20526294757033248\n"
          ]
        },
        {
          "output_type": "execute_result",
          "data": {
            "text/plain": [
              "0.20526294757033248"
            ]
          },
          "metadata": {},
          "execution_count": 6
        }
      ],
      "source": [
        "# Загрузим датасет CIFAR-100, сразу же создадим dataloader для него\n",
        "train_dataset = torchvision.datasets.CIFAR10(root='data/',\n",
        "                                             train=True,\n",
        "                                             transform=transforms.ToTensor(),\n",
        "                                             download=True)\n",
        "train_loader = torch.utils.data.DataLoader(dataset=train_dataset,\n",
        "                                           batch_size=64,\n",
        "                                           shuffle=True)\n",
        "\n",
        "\n",
        "test_dataset = torchvision.datasets.CIFAR10(root='./data',\n",
        "                                            train=False,\n",
        "                                            transform=transforms.ToTensor(),\n",
        "                                            download=True,)\n",
        "test_loader = torch.utils.data.DataLoader(test_dataset,\n",
        "                                          batch_size=8,\n",
        "                                          shuffle=False)\n",
        "\n",
        "classes = ('plane', 'car', 'bird', 'cat',\n",
        "           'deer', 'dog', 'frog', 'horse', 'ship', 'truck')\n",
        "\n",
        "class Net(nn.Module):\n",
        "    def __init__(self, output_dim):\n",
        "        super().__init__()\n",
        "        self.conv1 = nn.Conv2d(3, 32, kernel_size=3, padding=1)\n",
        "        self.conv2 = nn.Conv2d(32, 64, kernel_size=3, padding=1)\n",
        "        self.conv3 = nn.Conv2d(64, 128, kernel_size=3, padding=1)\n",
        "        self.fc1 = nn.Linear(128 * 4 * 4, 512)\n",
        "        self.fc2 = nn.Linear(512, 256)\n",
        "        self.fc3 = nn.Linear(256, output_dim)\n",
        "        self.dropout = nn.Dropout(0.5)\n",
        "\n",
        "    def forward(self, x):\n",
        "        x = F.relu(self.conv1(x))\n",
        "        x = F.max_pool2d(x, 2)\n",
        "        x = F.relu(self.conv2(x))\n",
        "        x = F.max_pool2d(x, 2)\n",
        "        x = F.relu(self.conv3(x))\n",
        "        x = F.max_pool2d(x, 2)\n",
        "        x = x.view(-1, 128 * 4 * 4)\n",
        "        x = F.relu(self.fc1(x))\n",
        "        x = self.dropout(x)\n",
        "        x = F.relu(self.fc2(x))\n",
        "        x = self.dropout(x)\n",
        "        x = self.fc3(x)\n",
        "        return x\n",
        "\n",
        "    def predict(self, x):\n",
        "        x = F.relu(self.conv1(x))\n",
        "        x = F.max_pool2d(x, 2)\n",
        "        x = F.relu(self.conv2(x))\n",
        "        x = F.max_pool2d(x, 2)\n",
        "        x = F.relu(self.conv3(x))\n",
        "        x = F.max_pool2d(x, 2)\n",
        "        x = x.view(-1, 128 * 4 * 4)\n",
        "        x = F.relu(self.fc1(x))\n",
        "        x = F.relu(self.fc2(x))\n",
        "        x = self.fc3(x)\n",
        "        x = F.softmax(x, dim=1)\n",
        "        return x\n",
        "\n",
        "model = get_model(net = Net(10), show_the_learning_process=1)\n",
        "check_model(model)"
      ]
    },
    {
      "cell_type": "markdown",
      "metadata": {
        "id": "6iyF6TM-dS2M"
      },
      "source": [
        "# Данные\n",
        "Попробуем теперь разнообразить исходные данные.  \n",
        "Используемые аугментации:\n",
        "- случайный кроп\n",
        "- случайный горизонтальный флип\n",
        "- случайный поворот на угол до 15 градусов"
      ]
    },
    {
      "cell_type": "code",
      "execution_count": 7,
      "metadata": {
        "id": "KR7Fskitcjaw",
        "colab": {
          "base_uri": "https://localhost:8080/"
        },
        "outputId": "d1332638-7ee5-46ce-eead-10cc32665ebe"
      },
      "outputs": [
        {
          "output_type": "stream",
          "name": "stdout",
          "text": [
            "Files already downloaded and verified\n",
            "Files already downloaded and verified\n",
            "Epoch [1/5]. Step [1/782]. Loss: 0.036\n",
            "Epoch [1/5]. Step [301/782]. Loss: 0.036\n",
            "Epoch [1/5]. Step [601/782]. Loss: 0.036\n",
            "Epoch [2/5]. Step [1/782]. Loss: 0.036\n",
            "Epoch [2/5]. Step [301/782]. Loss: 0.036\n",
            "Epoch [2/5]. Step [601/782]. Loss: 0.036\n",
            "Epoch [3/5]. Step [1/782]. Loss: 0.036\n",
            "Epoch [3/5]. Step [301/782]. Loss: 0.036\n",
            "Epoch [3/5]. Step [601/782]. Loss: 0.036\n",
            "Epoch [4/5]. Step [1/782]. Loss: 0.035\n",
            "Epoch [4/5]. Step [301/782]. Loss: 0.035\n",
            "Epoch [4/5]. Step [601/782]. Loss: 0.034\n",
            "Epoch [5/5]. Step [1/782]. Loss: 0.036\n",
            "Epoch [5/5]. Step [301/782]. Loss: 0.033\n",
            "Epoch [5/5]. Step [601/782]. Loss: 0.033\n",
            "Training is finished!\n",
            "Средняя точность составляет: 0.22194693094629156\n"
          ]
        },
        {
          "output_type": "execute_result",
          "data": {
            "text/plain": [
              "0.22194693094629156"
            ]
          },
          "metadata": {},
          "execution_count": 7
        }
      ],
      "source": [
        "import torchvision.transforms as transforms\n",
        "import torch.utils.data as data\n",
        "import random\n",
        "from PIL import Image\n",
        "\n",
        "class RandomResizedCrop:\n",
        "    def __call__(self, x):\n",
        "        im_w, im_h = x.size\n",
        "        scale = random.uniform(0.5, 1.0)\n",
        "        target_w, target_h = int(im_w * scale), int(im_h * scale)\n",
        "        x1 = random.randint(0, im_w - target_w)\n",
        "        y1 = random.randint(0, im_h - target_h)\n",
        "        x2, y2 = x1 + target_w, y1 + target_h\n",
        "        return x.crop((x1, y1, x2, y2)).resize((im_w, im_h))\n",
        "\n",
        "class RandomHorizontalFlip:\n",
        "    def __call__(self, x):\n",
        "        if random.random() < 0.5:\n",
        "            return x.transpose(Image.FLIP_LEFT_RIGHT)\n",
        "        return x\n",
        "\n",
        "class RandomRotation:\n",
        "    def __init__(self, degrees=15):\n",
        "        self.degrees = degrees\n",
        "\n",
        "    def __call__(self, x):\n",
        "        angle = random.uniform(-self.degrees, self.degrees)\n",
        "        return x.rotate(angle)\n",
        "\n",
        "train_transform = transforms.Compose([\n",
        "    RandomResizedCrop(),\n",
        "    RandomHorizontalFlip(),\n",
        "    RandomRotation(15),\n",
        "    transforms.ToTensor()\n",
        "])\n",
        "\n",
        "test_transform = transforms.Compose([\n",
        "    transforms.ToTensor()\n",
        "])\n",
        "\n",
        "train_dataset = torchvision.datasets.CIFAR10(root='data/',\n",
        "                                             train=True,\n",
        "                                             transform=train_transform,\n",
        "                                             download=True)\n",
        "train_loader = torch.utils.data.DataLoader(dataset=train_dataset,\n",
        "                                           batch_size=64,\n",
        "                                           shuffle=True)\n",
        "\n",
        "\n",
        "test_dataset = torchvision.datasets.CIFAR10(root='./data',\n",
        "                                            train=False,\n",
        "                                            transform=test_transform,\n",
        "                                            download=True,)\n",
        "test_loader = torch.utils.data.DataLoader(test_dataset,\n",
        "                                          batch_size=8,\n",
        "                                          shuffle=False)\n",
        "\n",
        "classes = ('plane', 'car', 'bird', 'cat',\n",
        "           'deer', 'dog', 'frog', 'horse', 'ship', 'truck')\n",
        "\n",
        "model = get_model(Net(10), best_optimizer, 1)\n",
        "check_model(model)"
      ]
    }
  ],
  "metadata": {
    "colab": {
      "provenance": []
    },
    "kernelspec": {
      "display_name": "Python 3",
      "language": "python",
      "name": "python3"
    },
    "language_info": {
      "codemirror_mode": {
        "name": "ipython",
        "version": 3
      },
      "file_extension": ".py",
      "mimetype": "text/x-python",
      "name": "python",
      "nbconvert_exporter": "python",
      "pygments_lexer": "ipython3",
      "version": "3.7.4"
    }
  },
  "nbformat": 4,
  "nbformat_minor": 0
}