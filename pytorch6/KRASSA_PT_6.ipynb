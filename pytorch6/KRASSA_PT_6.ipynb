{
 "cells": [
  {
   "cell_type": "markdown",
   "metadata": {
    "id": "0_K2vg5Jn7zR"
   },
   "source": [
    "# Урок 6. Нейросети в обработке текста.\n",
    "## Домашнее задание\n",
    "1. Попробуйте обучить нейронную сеть с применением одномерных сверток для предсказания сентимента сообщений с твитера на примере https://www.kaggle.com/datasets/arkhoshghalb/twitter-sentiment-analysis-hatred-speech\n",
    "\n",
    "2. Опишите, какой результат вы получили? Что помогло вам улучшить ее точность?\n"
   ]
  },
  {
   "cell_type": "code",
   "execution_count": 1,
   "metadata": {
    "colab": {
     "base_uri": "https://localhost:8080/"
    },
    "id": "D_RaU80Gn-Em",
    "outputId": "779abf93-251c-4514-aca7-fd1ae65136f3"
   },
   "outputs": [
    {
     "name": "stdout",
     "output_type": "stream",
     "text": [
      "Looking in indexes: https://pypi.org/simple, https://us-python.pkg.dev/colab-wheels/public/simple/\n",
      "Requirement already satisfied: kaggle in /usr/local/lib/python3.7/dist-packages (1.5.12)\n",
      "Requirement already satisfied: certifi in /usr/local/lib/python3.7/dist-packages (from kaggle) (2022.5.18.1)\n",
      "Requirement already satisfied: six>=1.10 in /usr/local/lib/python3.7/dist-packages (from kaggle) (1.15.0)\n",
      "Requirement already satisfied: python-slugify in /usr/local/lib/python3.7/dist-packages (from kaggle) (6.1.2)\n",
      "Requirement already satisfied: requests in /usr/local/lib/python3.7/dist-packages (from kaggle) (2.23.0)\n",
      "Requirement already satisfied: python-dateutil in /usr/local/lib/python3.7/dist-packages (from kaggle) (2.8.2)\n",
      "Requirement already satisfied: tqdm in /usr/local/lib/python3.7/dist-packages (from kaggle) (4.64.0)\n",
      "Requirement already satisfied: urllib3 in /usr/local/lib/python3.7/dist-packages (from kaggle) (1.24.3)\n",
      "Requirement already satisfied: text-unidecode>=1.3 in /usr/local/lib/python3.7/dist-packages (from python-slugify->kaggle) (1.3)\n",
      "Requirement already satisfied: chardet<4,>=3.0.2 in /usr/local/lib/python3.7/dist-packages (from requests->kaggle) (3.0.4)\n",
      "Requirement already satisfied: idna<3,>=2.5 in /usr/local/lib/python3.7/dist-packages (from requests->kaggle) (2.10)\n"
     ]
    }
   ],
   "source": [
    "! pip install kaggle\n",
    "! mkdir ~/.kaggle\n",
    "! cp kaggle.json ~/.kaggle/\n",
    "! chmod 600 ~/.kaggle/kaggle.json"
   ]
  },
  {
   "cell_type": "markdown",
   "metadata": {
    "id": "ssyhRWcb5TQV"
   },
   "source": [
    "Скачаем датасет с каггла:"
   ]
  },
  {
   "cell_type": "code",
   "execution_count": 2,
   "metadata": {
    "colab": {
     "base_uri": "https://localhost:8080/"
    },
    "id": "pK0WsSGPn-t-",
    "outputId": "64f8d10c-fa60-4101-bb4c-358abd8b46a7"
   },
   "outputs": [
    {
     "name": "stdout",
     "output_type": "stream",
     "text": [
      "Downloading twitter-sentiment-analysis-hatred-speech.zip to /content\n",
      "  0% 0.00/1.89M [00:00<?, ?B/s]\n",
      "100% 1.89M/1.89M [00:00<00:00, 195MB/s]\n"
     ]
    }
   ],
   "source": [
    "! kaggle datasets download arkhoshghalb/twitter-sentiment-analysis-hatred-speech"
   ]
  },
  {
   "cell_type": "code",
   "execution_count": 3,
   "metadata": {
    "colab": {
     "base_uri": "https://localhost:8080/"
    },
    "id": "AvRKf8Frof3V",
    "outputId": "fcf75798-4f29-4c1e-ef8d-7624ebaf6176"
   },
   "outputs": [
    {
     "name": "stdout",
     "output_type": "stream",
     "text": [
      "Archive:  twitter-sentiment-analysis-hatred-speech.zip\n",
      "  inflating: test.csv                \n",
      "  inflating: train.csv               \n"
     ]
    }
   ],
   "source": [
    "! unzip twitter-sentiment-analysis-hatred-speech.zip"
   ]
  },
  {
   "cell_type": "code",
   "execution_count": 4,
   "metadata": {
    "colab": {
     "base_uri": "https://localhost:8080/"
    },
    "id": "uOiDj5J6tH4_",
    "outputId": "36328852-4fce-4d6e-d765-6b4ead2a2458"
   },
   "outputs": [
    {
     "name": "stdout",
     "output_type": "stream",
     "text": [
      "Looking in indexes: https://pypi.org/simple, https://us-python.pkg.dev/colab-wheels/public/simple/\n",
      "Collecting stop-words\n",
      "  Downloading stop-words-2018.7.23.tar.gz (31 kB)\n",
      "Collecting pymorphy2\n",
      "  Downloading pymorphy2-0.9.1-py3-none-any.whl (55 kB)\n",
      "\u001b[K     |████████████████████████████████| 55 kB 4.5 MB/s \n",
      "\u001b[?25hCollecting dawg-python>=0.7.1\n",
      "  Downloading DAWG_Python-0.7.2-py2.py3-none-any.whl (11 kB)\n",
      "Requirement already satisfied: docopt>=0.6 in /usr/local/lib/python3.7/dist-packages (from pymorphy2) (0.6.2)\n",
      "Collecting pymorphy2-dicts-ru<3.0,>=2.4\n",
      "  Downloading pymorphy2_dicts_ru-2.4.417127.4579844-py2.py3-none-any.whl (8.2 MB)\n",
      "\u001b[K     |████████████████████████████████| 8.2 MB 51.0 MB/s \n",
      "\u001b[?25hBuilding wheels for collected packages: stop-words\n",
      "  Building wheel for stop-words (setup.py) ... \u001b[?25l\u001b[?25hdone\n",
      "  Created wheel for stop-words: filename=stop_words-2018.7.23-py3-none-any.whl size=32911 sha256=ac15142dca90ed7ad2e6916af00452e44becb901622a00163e29925b0e5acf2b\n",
      "  Stored in directory: /root/.cache/pip/wheels/fb/86/b2/277b10b1ce9f73ce15059bf6975d4547cc4ec3feeb651978e9\n",
      "Successfully built stop-words\n",
      "Installing collected packages: pymorphy2-dicts-ru, dawg-python, stop-words, pymorphy2\n",
      "Successfully installed dawg-python-0.7.2 pymorphy2-0.9.1 pymorphy2-dicts-ru-2.4.417127.4579844 stop-words-2018.7.23\n"
     ]
    }
   ],
   "source": [
    "!pip install stop-words pymorphy2"
   ]
  },
  {
   "cell_type": "markdown",
   "metadata": {
    "id": "BtDQjDoN5dwr"
   },
   "source": [
    "Скачаем библиотеку для лемматизации английских слов:"
   ]
  },
  {
   "cell_type": "code",
   "execution_count": 5,
   "metadata": {
    "colab": {
     "base_uri": "https://localhost:8080/"
    },
    "id": "EtfGKTz0zjFK",
    "outputId": "b9d24ec0-d546-43a3-a263-69e39ab6c25f"
   },
   "outputs": [
    {
     "name": "stdout",
     "output_type": "stream",
     "text": [
      "Looking in indexes: https://pypi.org/simple, https://us-python.pkg.dev/colab-wheels/public/simple/\n",
      "Requirement already satisfied: spacy in /usr/local/lib/python3.7/dist-packages (2.2.4)\n",
      "Requirement already satisfied: srsly<1.1.0,>=1.0.2 in /usr/local/lib/python3.7/dist-packages (from spacy) (1.0.5)\n",
      "Requirement already satisfied: requests<3.0.0,>=2.13.0 in /usr/local/lib/python3.7/dist-packages (from spacy) (2.23.0)\n",
      "Requirement already satisfied: tqdm<5.0.0,>=4.38.0 in /usr/local/lib/python3.7/dist-packages (from spacy) (4.64.0)\n",
      "Requirement already satisfied: blis<0.5.0,>=0.4.0 in /usr/local/lib/python3.7/dist-packages (from spacy) (0.4.1)\n",
      "Requirement already satisfied: cymem<2.1.0,>=2.0.2 in /usr/local/lib/python3.7/dist-packages (from spacy) (2.0.6)\n",
      "Requirement already satisfied: setuptools in /usr/local/lib/python3.7/dist-packages (from spacy) (57.4.0)\n",
      "Requirement already satisfied: wasabi<1.1.0,>=0.4.0 in /usr/local/lib/python3.7/dist-packages (from spacy) (0.9.1)\n",
      "Requirement already satisfied: preshed<3.1.0,>=3.0.2 in /usr/local/lib/python3.7/dist-packages (from spacy) (3.0.6)\n",
      "Requirement already satisfied: plac<1.2.0,>=0.9.6 in /usr/local/lib/python3.7/dist-packages (from spacy) (1.1.3)\n",
      "Requirement already satisfied: murmurhash<1.1.0,>=0.28.0 in /usr/local/lib/python3.7/dist-packages (from spacy) (1.0.7)\n",
      "Requirement already satisfied: numpy>=1.15.0 in /usr/local/lib/python3.7/dist-packages (from spacy) (1.21.6)\n",
      "Requirement already satisfied: catalogue<1.1.0,>=0.0.7 in /usr/local/lib/python3.7/dist-packages (from spacy) (1.0.0)\n",
      "Requirement already satisfied: thinc==7.4.0 in /usr/local/lib/python3.7/dist-packages (from spacy) (7.4.0)\n",
      "Requirement already satisfied: importlib-metadata>=0.20 in /usr/local/lib/python3.7/dist-packages (from catalogue<1.1.0,>=0.0.7->spacy) (4.11.4)\n",
      "Requirement already satisfied: typing-extensions>=3.6.4 in /usr/local/lib/python3.7/dist-packages (from importlib-metadata>=0.20->catalogue<1.1.0,>=0.0.7->spacy) (4.2.0)\n",
      "Requirement already satisfied: zipp>=0.5 in /usr/local/lib/python3.7/dist-packages (from importlib-metadata>=0.20->catalogue<1.1.0,>=0.0.7->spacy) (3.8.0)\n",
      "Requirement already satisfied: idna<3,>=2.5 in /usr/local/lib/python3.7/dist-packages (from requests<3.0.0,>=2.13.0->spacy) (2.10)\n",
      "Requirement already satisfied: chardet<4,>=3.0.2 in /usr/local/lib/python3.7/dist-packages (from requests<3.0.0,>=2.13.0->spacy) (3.0.4)\n",
      "Requirement already satisfied: urllib3!=1.25.0,!=1.25.1,<1.26,>=1.21.1 in /usr/local/lib/python3.7/dist-packages (from requests<3.0.0,>=2.13.0->spacy) (1.24.3)\n",
      "Requirement already satisfied: certifi>=2017.4.17 in /usr/local/lib/python3.7/dist-packages (from requests<3.0.0,>=2.13.0->spacy) (2022.5.18.1)\n",
      "Looking in indexes: https://pypi.org/simple, https://us-python.pkg.dev/colab-wheels/public/simple/\n",
      "Collecting en_core_web_sm==2.2.5\n",
      "  Downloading https://github.com/explosion/spacy-models/releases/download/en_core_web_sm-2.2.5/en_core_web_sm-2.2.5.tar.gz (12.0 MB)\n",
      "\u001b[K     |████████████████████████████████| 12.0 MB 19.2 MB/s \n",
      "\u001b[?25hRequirement already satisfied: spacy>=2.2.2 in /usr/local/lib/python3.7/dist-packages (from en_core_web_sm==2.2.5) (2.2.4)\n",
      "Requirement already satisfied: setuptools in /usr/local/lib/python3.7/dist-packages (from spacy>=2.2.2->en_core_web_sm==2.2.5) (57.4.0)\n",
      "Requirement already satisfied: wasabi<1.1.0,>=0.4.0 in /usr/local/lib/python3.7/dist-packages (from spacy>=2.2.2->en_core_web_sm==2.2.5) (0.9.1)\n",
      "Requirement already satisfied: plac<1.2.0,>=0.9.6 in /usr/local/lib/python3.7/dist-packages (from spacy>=2.2.2->en_core_web_sm==2.2.5) (1.1.3)\n",
      "Requirement already satisfied: cymem<2.1.0,>=2.0.2 in /usr/local/lib/python3.7/dist-packages (from spacy>=2.2.2->en_core_web_sm==2.2.5) (2.0.6)\n",
      "Requirement already satisfied: thinc==7.4.0 in /usr/local/lib/python3.7/dist-packages (from spacy>=2.2.2->en_core_web_sm==2.2.5) (7.4.0)\n",
      "Requirement already satisfied: tqdm<5.0.0,>=4.38.0 in /usr/local/lib/python3.7/dist-packages (from spacy>=2.2.2->en_core_web_sm==2.2.5) (4.64.0)\n",
      "Requirement already satisfied: blis<0.5.0,>=0.4.0 in /usr/local/lib/python3.7/dist-packages (from spacy>=2.2.2->en_core_web_sm==2.2.5) (0.4.1)\n",
      "Requirement already satisfied: preshed<3.1.0,>=3.0.2 in /usr/local/lib/python3.7/dist-packages (from spacy>=2.2.2->en_core_web_sm==2.2.5) (3.0.6)\n",
      "Requirement already satisfied: catalogue<1.1.0,>=0.0.7 in /usr/local/lib/python3.7/dist-packages (from spacy>=2.2.2->en_core_web_sm==2.2.5) (1.0.0)\n",
      "Requirement already satisfied: numpy>=1.15.0 in /usr/local/lib/python3.7/dist-packages (from spacy>=2.2.2->en_core_web_sm==2.2.5) (1.21.6)\n",
      "Requirement already satisfied: requests<3.0.0,>=2.13.0 in /usr/local/lib/python3.7/dist-packages (from spacy>=2.2.2->en_core_web_sm==2.2.5) (2.23.0)\n",
      "Requirement already satisfied: srsly<1.1.0,>=1.0.2 in /usr/local/lib/python3.7/dist-packages (from spacy>=2.2.2->en_core_web_sm==2.2.5) (1.0.5)\n",
      "Requirement already satisfied: murmurhash<1.1.0,>=0.28.0 in /usr/local/lib/python3.7/dist-packages (from spacy>=2.2.2->en_core_web_sm==2.2.5) (1.0.7)\n",
      "Requirement already satisfied: importlib-metadata>=0.20 in /usr/local/lib/python3.7/dist-packages (from catalogue<1.1.0,>=0.0.7->spacy>=2.2.2->en_core_web_sm==2.2.5) (4.11.4)\n",
      "Requirement already satisfied: typing-extensions>=3.6.4 in /usr/local/lib/python3.7/dist-packages (from importlib-metadata>=0.20->catalogue<1.1.0,>=0.0.7->spacy>=2.2.2->en_core_web_sm==2.2.5) (4.2.0)\n",
      "Requirement already satisfied: zipp>=0.5 in /usr/local/lib/python3.7/dist-packages (from importlib-metadata>=0.20->catalogue<1.1.0,>=0.0.7->spacy>=2.2.2->en_core_web_sm==2.2.5) (3.8.0)\n",
      "Requirement already satisfied: certifi>=2017.4.17 in /usr/local/lib/python3.7/dist-packages (from requests<3.0.0,>=2.13.0->spacy>=2.2.2->en_core_web_sm==2.2.5) (2022.5.18.1)\n",
      "Requirement already satisfied: idna<3,>=2.5 in /usr/local/lib/python3.7/dist-packages (from requests<3.0.0,>=2.13.0->spacy>=2.2.2->en_core_web_sm==2.2.5) (2.10)\n",
      "Requirement already satisfied: urllib3!=1.25.0,!=1.25.1,<1.26,>=1.21.1 in /usr/local/lib/python3.7/dist-packages (from requests<3.0.0,>=2.13.0->spacy>=2.2.2->en_core_web_sm==2.2.5) (1.24.3)\n",
      "Requirement already satisfied: chardet<4,>=3.0.2 in /usr/local/lib/python3.7/dist-packages (from requests<3.0.0,>=2.13.0->spacy>=2.2.2->en_core_web_sm==2.2.5) (3.0.4)\n",
      "\u001b[38;5;2m✔ Download and installation successful\u001b[0m\n",
      "You can now load the model via spacy.load('en_core_web_sm')\n",
      "\u001b[38;5;2m✔ Linking successful\u001b[0m\n",
      "/usr/local/lib/python3.7/dist-packages/en_core_web_sm -->\n",
      "/usr/local/lib/python3.7/dist-packages/spacy/data/en\n",
      "You can now load the model via spacy.load('en')\n"
     ]
    }
   ],
   "source": [
    "! pip install spacy\n",
    "! spacy download en"
   ]
  },
  {
   "cell_type": "markdown",
   "metadata": {
    "id": "0knJfBSd53kZ"
   },
   "source": [
    "Установим необходимые библиотеки:"
   ]
  },
  {
   "cell_type": "code",
   "execution_count": 6,
   "metadata": {
    "colab": {
     "base_uri": "https://localhost:8080/"
    },
    "id": "B_Q-MUwhpfLW",
    "outputId": "5d9264b2-29ad-461d-95ce-5ee806a1cbc3"
   },
   "outputs": [
    {
     "name": "stdout",
     "output_type": "stream",
     "text": [
      "[nltk_data] Downloading package punkt to /root/nltk_data...\n",
      "[nltk_data]   Unzipping tokenizers/punkt.zip.\n"
     ]
    }
   ],
   "source": [
    "import pandas as pd\n",
    "import numpy as np\n",
    "from sklearn.model_selection import train_test_split\n",
    "from string import punctuation\n",
    "from stop_words import get_stop_words\n",
    "from pymorphy2 import MorphAnalyzer\n",
    "import re\n",
    "import spacy\n",
    "from tqdm import tqdm \n",
    "tqdm.pandas()\n",
    "import nltk\n",
    "from nltk.tokenize import word_tokenize\n",
    "nltk.download(\"punkt\")\n",
    "from nltk.probability import FreqDist\n",
    "import torch\n",
    "import torch.nn as nn\n",
    "import torch.nn.functional as F\n",
    "from torch.utils.data import DataLoader, Dataset\n",
    "import matplotlib.pyplot as plt"
   ]
  },
  {
   "cell_type": "code",
   "execution_count": 7,
   "metadata": {
    "id": "N_MWFAgAot75"
   },
   "outputs": [],
   "source": [
    "df = pd.read_csv(\"train.csv\")"
   ]
  },
  {
   "cell_type": "markdown",
   "metadata": {
    "id": "2_MLaWJm59__"
   },
   "source": [
    "Посмотрим датасет:"
   ]
  },
  {
   "cell_type": "code",
   "execution_count": 8,
   "metadata": {
    "colab": {
     "base_uri": "https://localhost:8080/",
     "height": 206
    },
    "id": "PJiNANj7pxwk",
    "outputId": "ad22a0a1-7066-4679-d2c0-c4c5fd29924c"
   },
   "outputs": [
    {
     "data": {
      "text/html": [
       "\n",
       "  <div id=\"df-534a9584-610b-4264-b244-aa40f4b6f602\">\n",
       "    <div class=\"colab-df-container\">\n",
       "      <div>\n",
       "<style scoped>\n",
       "    .dataframe tbody tr th:only-of-type {\n",
       "        vertical-align: middle;\n",
       "    }\n",
       "\n",
       "    .dataframe tbody tr th {\n",
       "        vertical-align: top;\n",
       "    }\n",
       "\n",
       "    .dataframe thead th {\n",
       "        text-align: right;\n",
       "    }\n",
       "</style>\n",
       "<table border=\"1\" class=\"dataframe\">\n",
       "  <thead>\n",
       "    <tr style=\"text-align: right;\">\n",
       "      <th></th>\n",
       "      <th>id</th>\n",
       "      <th>label</th>\n",
       "      <th>tweet</th>\n",
       "    </tr>\n",
       "  </thead>\n",
       "  <tbody>\n",
       "    <tr>\n",
       "      <th>0</th>\n",
       "      <td>1</td>\n",
       "      <td>0</td>\n",
       "      <td>@user when a father is dysfunctional and is s...</td>\n",
       "    </tr>\n",
       "    <tr>\n",
       "      <th>1</th>\n",
       "      <td>2</td>\n",
       "      <td>0</td>\n",
       "      <td>@user @user thanks for #lyft credit i can't us...</td>\n",
       "    </tr>\n",
       "    <tr>\n",
       "      <th>2</th>\n",
       "      <td>3</td>\n",
       "      <td>0</td>\n",
       "      <td>bihday your majesty</td>\n",
       "    </tr>\n",
       "    <tr>\n",
       "      <th>3</th>\n",
       "      <td>4</td>\n",
       "      <td>0</td>\n",
       "      <td>#model   i love u take with u all the time in ...</td>\n",
       "    </tr>\n",
       "    <tr>\n",
       "      <th>4</th>\n",
       "      <td>5</td>\n",
       "      <td>0</td>\n",
       "      <td>factsguide: society now    #motivation</td>\n",
       "    </tr>\n",
       "  </tbody>\n",
       "</table>\n",
       "</div>\n",
       "      <button class=\"colab-df-convert\" onclick=\"convertToInteractive('df-534a9584-610b-4264-b244-aa40f4b6f602')\"\n",
       "              title=\"Convert this dataframe to an interactive table.\"\n",
       "              style=\"display:none;\">\n",
       "        \n",
       "  <svg xmlns=\"http://www.w3.org/2000/svg\" height=\"24px\"viewBox=\"0 0 24 24\"\n",
       "       width=\"24px\">\n",
       "    <path d=\"M0 0h24v24H0V0z\" fill=\"none\"/>\n",
       "    <path d=\"M18.56 5.44l.94 2.06.94-2.06 2.06-.94-2.06-.94-.94-2.06-.94 2.06-2.06.94zm-11 1L8.5 8.5l.94-2.06 2.06-.94-2.06-.94L8.5 2.5l-.94 2.06-2.06.94zm10 10l.94 2.06.94-2.06 2.06-.94-2.06-.94-.94-2.06-.94 2.06-2.06.94z\"/><path d=\"M17.41 7.96l-1.37-1.37c-.4-.4-.92-.59-1.43-.59-.52 0-1.04.2-1.43.59L10.3 9.45l-7.72 7.72c-.78.78-.78 2.05 0 2.83L4 21.41c.39.39.9.59 1.41.59.51 0 1.02-.2 1.41-.59l7.78-7.78 2.81-2.81c.8-.78.8-2.07 0-2.86zM5.41 20L4 18.59l7.72-7.72 1.47 1.35L5.41 20z\"/>\n",
       "  </svg>\n",
       "      </button>\n",
       "      \n",
       "  <style>\n",
       "    .colab-df-container {\n",
       "      display:flex;\n",
       "      flex-wrap:wrap;\n",
       "      gap: 12px;\n",
       "    }\n",
       "\n",
       "    .colab-df-convert {\n",
       "      background-color: #E8F0FE;\n",
       "      border: none;\n",
       "      border-radius: 50%;\n",
       "      cursor: pointer;\n",
       "      display: none;\n",
       "      fill: #1967D2;\n",
       "      height: 32px;\n",
       "      padding: 0 0 0 0;\n",
       "      width: 32px;\n",
       "    }\n",
       "\n",
       "    .colab-df-convert:hover {\n",
       "      background-color: #E2EBFA;\n",
       "      box-shadow: 0px 1px 2px rgba(60, 64, 67, 0.3), 0px 1px 3px 1px rgba(60, 64, 67, 0.15);\n",
       "      fill: #174EA6;\n",
       "    }\n",
       "\n",
       "    [theme=dark] .colab-df-convert {\n",
       "      background-color: #3B4455;\n",
       "      fill: #D2E3FC;\n",
       "    }\n",
       "\n",
       "    [theme=dark] .colab-df-convert:hover {\n",
       "      background-color: #434B5C;\n",
       "      box-shadow: 0px 1px 3px 1px rgba(0, 0, 0, 0.15);\n",
       "      filter: drop-shadow(0px 1px 2px rgba(0, 0, 0, 0.3));\n",
       "      fill: #FFFFFF;\n",
       "    }\n",
       "  </style>\n",
       "\n",
       "      <script>\n",
       "        const buttonEl =\n",
       "          document.querySelector('#df-534a9584-610b-4264-b244-aa40f4b6f602 button.colab-df-convert');\n",
       "        buttonEl.style.display =\n",
       "          google.colab.kernel.accessAllowed ? 'block' : 'none';\n",
       "\n",
       "        async function convertToInteractive(key) {\n",
       "          const element = document.querySelector('#df-534a9584-610b-4264-b244-aa40f4b6f602');\n",
       "          const dataTable =\n",
       "            await google.colab.kernel.invokeFunction('convertToInteractive',\n",
       "                                                     [key], {});\n",
       "          if (!dataTable) return;\n",
       "\n",
       "          const docLinkHtml = 'Like what you see? Visit the ' +\n",
       "            '<a target=\"_blank\" href=https://colab.research.google.com/notebooks/data_table.ipynb>data table notebook</a>'\n",
       "            + ' to learn more about interactive tables.';\n",
       "          element.innerHTML = '';\n",
       "          dataTable['output_type'] = 'display_data';\n",
       "          await google.colab.output.renderOutput(dataTable, element);\n",
       "          const docLink = document.createElement('div');\n",
       "          docLink.innerHTML = docLinkHtml;\n",
       "          element.appendChild(docLink);\n",
       "        }\n",
       "      </script>\n",
       "    </div>\n",
       "  </div>\n",
       "  "
      ],
      "text/plain": [
       "   id  label                                              tweet\n",
       "0   1      0   @user when a father is dysfunctional and is s...\n",
       "1   2      0  @user @user thanks for #lyft credit i can't us...\n",
       "2   3      0                                bihday your majesty\n",
       "3   4      0  #model   i love u take with u all the time in ...\n",
       "4   5      0             factsguide: society now    #motivation"
      ]
     },
     "execution_count": 8,
     "metadata": {},
     "output_type": "execute_result"
    }
   ],
   "source": [
    "df.head()"
   ]
  },
  {
   "cell_type": "code",
   "execution_count": 9,
   "metadata": {
    "colab": {
     "base_uri": "https://localhost:8080/"
    },
    "id": "h-Sofpy8p0uv",
    "outputId": "30c7ca9e-1aac-49dd-c278-24c82558e399"
   },
   "outputs": [
    {
     "data": {
      "text/plain": [
       "0    29720\n",
       "1     2242\n",
       "Name: label, dtype: int64"
      ]
     },
     "execution_count": 9,
     "metadata": {},
     "output_type": "execute_result"
    }
   ],
   "source": [
    "df['label'].value_counts()"
   ]
  },
  {
   "cell_type": "markdown",
   "metadata": {
    "id": "P0VbH8ki6DMi"
   },
   "source": [
    "Распределение лейблов очень неравномерное.\n",
    "\n",
    "Разобьем датасет, используя стратификацию:"
   ]
  },
  {
   "cell_type": "code",
   "execution_count": 10,
   "metadata": {
    "id": "h1LPjU87r931"
   },
   "outputs": [],
   "source": [
    "df_train, df_test = train_test_split(df, test_size=0.3, shuffle=True, stratify=df['label'], random_state=42)"
   ]
  },
  {
   "cell_type": "code",
   "execution_count": 11,
   "metadata": {
    "colab": {
     "base_uri": "https://localhost:8080/"
    },
    "id": "mxW_645jqDQ8",
    "outputId": "2ac85bc5-dc7a-4296-d4db-6bc6a3e7bc06"
   },
   "outputs": [
    {
     "data": {
      "text/plain": [
       "0    8916\n",
       "1     673\n",
       "Name: label, dtype: int64"
      ]
     },
     "execution_count": 11,
     "metadata": {},
     "output_type": "execute_result"
    }
   ],
   "source": [
    "df_test['label'].value_counts()"
   ]
  },
  {
   "cell_type": "markdown",
   "metadata": {
    "id": "KKdppLu86gED"
   },
   "source": [
    "Подготовим функцию для обработки текста с лемматизацией:"
   ]
  },
  {
   "cell_type": "code",
   "execution_count": 12,
   "metadata": {
    "id": "8TO36SVIqV1m"
   },
   "outputs": [],
   "source": [
    "sw = set(get_stop_words(\"english\"))\n",
    "puncts = set(punctuation)\n",
    "nlp = spacy.load('en', disable=['parser', 'ner'])\n",
    "\n",
    "def preprocess_text(txt):\n",
    "  txt = str(txt)\n",
    "  txt = \"\".join(c for c in txt if c not in puncts)\n",
    "  txt = txt.lower()\n",
    "  txt = re.sub(\"not\\s\", \"not\", txt)\n",
    "  txt = re.sub(\"dont\\s\", \"dont\", txt)\n",
    "  txt = re.sub(\"doesnt\\s\", \"doesnt\", txt)\n",
    "  txt = re.sub(\"didnt\\s\", \"didnt\", txt)\n",
    "  txt = re.sub(\"havent\\s\", \"havent\", txt)\n",
    "  txt = re.sub(\"hasnt\\s\", \"hasnt\", txt)\n",
    "  txt = nlp(txt)\n",
    "  txt = [word.lemma_ for word in txt if word not in sw]\n",
    "  return \" \".join(txt)"
   ]
  },
  {
   "cell_type": "code",
   "execution_count": 13,
   "metadata": {
    "colab": {
     "base_uri": "https://localhost:8080/"
    },
    "id": "XGlgk_V0OQBQ",
    "outputId": "974d72f0-2e4b-46a5-bfcf-cbc301281b61"
   },
   "outputs": [
    {
     "data": {
      "text/plain": [
       "array(['happy bihday to my brother man. needed this mixtape like we need boos. have a good one sach   @user '],\n",
       "      dtype=object)"
      ]
     },
     "execution_count": 13,
     "metadata": {},
     "output_type": "execute_result"
    }
   ],
   "source": [
    "df_train['tweet'].iloc[:1].values"
   ]
  },
  {
   "cell_type": "code",
   "execution_count": 14,
   "metadata": {
    "colab": {
     "base_uri": "https://localhost:8080/"
    },
    "id": "RIzCOb5qOb5X",
    "outputId": "4858d9c3-593b-4368-d25a-d385a8b2cd50"
   },
   "outputs": [
    {
     "data": {
      "text/plain": [
       "array(['happy bihday to -PRON- brother man need this mixtape like -PRON- need boo have a good one sach    user'],\n",
       "      dtype=object)"
      ]
     },
     "execution_count": 14,
     "metadata": {},
     "output_type": "execute_result"
    }
   ],
   "source": [
    "df_train['tweet'].iloc[:1].apply(preprocess_text).values"
   ]
  },
  {
   "cell_type": "markdown",
   "metadata": {
    "id": "aum0Ld726wjW"
   },
   "source": [
    "Применим обработку текста с лемматизацией к трейну и тесту:"
   ]
  },
  {
   "cell_type": "code",
   "execution_count": 15,
   "metadata": {
    "colab": {
     "base_uri": "https://localhost:8080/"
    },
    "id": "pbXAy2_2OkLB",
    "outputId": "0481d09a-4d42-4f52-fb74-dc467e2d37db"
   },
   "outputs": [
    {
     "name": "stderr",
     "output_type": "stream",
     "text": [
      "100%|██████████| 22373/22373 [01:10<00:00, 319.10it/s]\n",
      "100%|██████████| 9589/9589 [00:27<00:00, 343.60it/s]\n"
     ]
    }
   ],
   "source": [
    "df_train['tweet'] = df_train['tweet'].progress_apply(preprocess_text)\n",
    "df_test['tweet'] = df_test['tweet'].progress_apply(preprocess_text)"
   ]
  },
  {
   "cell_type": "markdown",
   "metadata": {
    "id": "jRE0QBJK68O7"
   },
   "source": [
    "Составим корпус текстов:"
   ]
  },
  {
   "cell_type": "code",
   "execution_count": 16,
   "metadata": {
    "id": "rPtO6nx5U3rK"
   },
   "outputs": [],
   "source": [
    "train_corpus = \" \".join(df_train[\"tweet\"])\n",
    "train_corpus = train_corpus.lower()"
   ]
  },
  {
   "cell_type": "markdown",
   "metadata": {
    "id": "Cyc6BJeg7Ewy"
   },
   "source": [
    "Инициализируем функцию токенизации:"
   ]
  },
  {
   "cell_type": "code",
   "execution_count": 17,
   "metadata": {
    "id": "WZ0yVbMWWMLZ"
   },
   "outputs": [],
   "source": [
    "def text_to_sequence(text, maxlen, vocabulary):\n",
    "    result = []\n",
    "    tokens = word_tokenize(text.lower())\n",
    "    tokens_filtered = [word for word in tokens if word.isalnum()]\n",
    "    for word in tokens_filtered:\n",
    "        if word in vocabulary:\n",
    "            result.append(vocabulary[word])\n",
    "\n",
    "    padding = [0] * (maxlen-len(result))\n",
    "    return result[-maxlen:] + padding"
   ]
  },
  {
   "cell_type": "markdown",
   "metadata": {
    "id": "lOd4NMCl7O0Q"
   },
   "source": [
    "Инициализируем сеть:"
   ]
  },
  {
   "cell_type": "code",
   "execution_count": 18,
   "metadata": {
    "id": "XH0S7sdHW9BG"
   },
   "outputs": [],
   "source": [
    "class Net(nn.Module):\n",
    "    def __init__(self, vocab_size=2000, embedding_dim=128, out_channel=128, num_classes=1):\n",
    "        super().__init__()\n",
    "        self.embedding = nn.Embedding(vocab_size, embedding_dim)\n",
    "        self.conv_1 = nn.Conv1d(embedding_dim, out_channel, kernel_size=2)\n",
    "        self.conv_2 = nn.Conv1d(embedding_dim, out_channel, kernel_size=3)\n",
    "        self.pool = nn.MaxPool1d(2)\n",
    "        self.relu = nn.ReLU()\n",
    "        self.linear_1 = nn.Linear(out_channel, out_channel // 2)\n",
    "        self.linear_2 = nn.Linear(out_channel // 2, num_classes)\n",
    "        \n",
    "    def forward(self, x):        \n",
    "        output = self.embedding(x) # B, L, E\n",
    "        #                       B  E  L         \n",
    "        output = output.permute(0, 2, 1)\n",
    "        output = self.conv_1(output)\n",
    "        output = self.relu(output)\n",
    "        output = self.pool(output)\n",
    "\n",
    "        output = self.conv_2(output)\n",
    "        output = self.relu(output)\n",
    "        output = self.pool(output)\n",
    "        output = torch.max(output, axis=2).values\n",
    "        output = self.linear_1(output)\n",
    "        output = self.relu(output)\n",
    "        output = self.linear_2(output)\n",
    "        output = F.sigmoid(output)\n",
    "        return output"
   ]
  },
  {
   "cell_type": "markdown",
   "metadata": {
    "id": "Uy0r9WY67T4K"
   },
   "source": [
    "Инициализируем класс кастомного датасета:"
   ]
  },
  {
   "cell_type": "code",
   "execution_count": 18,
   "metadata": {
    "id": "Y67KLoRCX1z3"
   },
   "outputs": [],
   "source": [
    "class DataWrapper(Dataset):\n",
    "    def __init__(self, data, target, transform=None):\n",
    "        self.data = torch.from_numpy(data).long()\n",
    "        self.target = torch.from_numpy(target).long()\n",
    "        self.transform = transform\n",
    "        \n",
    "    def __getitem__(self, index):\n",
    "        x = self.data[index]\n",
    "        y = self.target[index]\n",
    "        \n",
    "        if self.transform:\n",
    "            x = self.transform(x)\n",
    "            \n",
    "        return x, y\n",
    "    \n",
    "    def __len__(self):\n",
    "        return len(self.data)"
   ]
  },
  {
   "cell_type": "markdown",
   "metadata": {
    "id": "wtNwhU9j7b9y"
   },
   "source": [
    "Инициализируем функцию подготовки загрузчиков:"
   ]
  },
  {
   "cell_type": "code",
   "execution_count": 19,
   "metadata": {
    "id": "SyqubmU7TXSm"
   },
   "outputs": [],
   "source": [
    "def get_loaders(max_words=2000, max_len=20):\n",
    "\n",
    "    tokens = word_tokenize(train_corpus)\n",
    "    tokens_filtered = [word for word in tokens if word.isalnum()]\n",
    "    dist = FreqDist(tokens_filtered)\n",
    "    tokens_filtered_top = [pair[0] for pair in dist.most_common(max_words-1)]\n",
    "    vocabulary = {v: k for k, v in dict(enumerate(tokens_filtered_top, 1)).items()}\n",
    "\n",
    "    x_train = np.asarray([text_to_sequence(text, max_len, vocabulary) for text in df_train[\"tweet\"]])\n",
    "    x_test = np.asarray([text_to_sequence(text, max_len, vocabulary) for text in df_test[\"tweet\"]])\n",
    "\n",
    "    train_dataset = DataWrapper(x_train, df_train['label'].values)\n",
    "    train_loader = DataLoader(train_dataset, batch_size=512, shuffle=True)\n",
    "\n",
    "    test_dataset = DataWrapper(x_test, df_test['label'].values)\n",
    "    test_loader = DataLoader(test_dataset, batch_size=8, shuffle=True)\n",
    "    return train_loader, test_loader"
   ]
  },
  {
   "cell_type": "code",
   "execution_count": 20,
   "metadata": {
    "colab": {
     "base_uri": "https://localhost:8080/",
     "height": 35
    },
    "id": "QWuvZGEDTaKm",
    "outputId": "4768f256-df19-4ad7-a636-af0706f5143d"
   },
   "outputs": [
    {
     "data": {
      "application/vnd.google.colaboratory.intrinsic+json": {
       "type": "string"
      },
      "text/plain": [
       "'cuda'"
      ]
     },
     "execution_count": 20,
     "metadata": {},
     "output_type": "execute_result"
    }
   ],
   "source": [
    "device = 'cuda' if torch.cuda.is_available() else 'cpu'\n",
    "device"
   ]
  },
  {
   "cell_type": "markdown",
   "metadata": {
    "id": "C7L6cd2-7mzm"
   },
   "source": [
    "Инициализируем функцию обучения модели:"
   ]
  },
  {
   "cell_type": "code",
   "execution_count": 21,
   "metadata": {
    "id": "GLpL4VJRZONV"
   },
   "outputs": [],
   "source": [
    "def learn_net(model, epochs=20, th=0.5):\n",
    "  model = model.to(device)\n",
    "  model.train()\n",
    "  \n",
    "  train_loss_history = []\n",
    "  test_loss_history = []\n",
    "\n",
    "\n",
    "  for epoch in range(epochs):  \n",
    "      running_loss, running_items, running_right = 0.0, 0.0, 0.0\n",
    "      for i, data in enumerate(train_loader, 0):\n",
    "          inputs, labels = data[0].to(device), data[1].to(device)\n",
    "          \n",
    "          # обнуляем градиент\n",
    "          optimizer.zero_grad()\n",
    "          outputs = model(inputs)\n",
    "          \n",
    "          loss = criterion(outputs, labels.float().view(-1, 1))\n",
    "          loss.backward()\n",
    "          optimizer.step()\n",
    "\n",
    "          # подсчет ошибки на обучении\n",
    "          running_loss += loss.item()\n",
    "          running_items += len(labels)\n",
    "          # подсчет метрики на обучении\n",
    "          pred_labels = torch.squeeze((outputs > th).int())\n",
    "          running_right += (labels == pred_labels).sum()\n",
    "          \n",
    "      # выводим статистику о процессе обучения\n",
    "      model.eval()\n",
    "      \n",
    "      print(f'Epoch [{epoch + 1}/{epochs}]. ' \\\n",
    "              f'Step [{i + 1}/{len(train_loader)}]. ' \\\n",
    "              f'Loss: {running_loss/(i+1):.3f}. ' \\\n",
    "              f'Acc: {running_right / running_items:.3f}', end='. ')\n",
    "      \n",
    "      train_loss_history.append(running_loss/(i+1))\n",
    "      running_loss, running_items, running_right = 0.0, 0.0, 0.0\n",
    "\n",
    "          # выводим статистику на тестовых данных\n",
    "      test_running_right, test_running_total, test_loss = 0.0, 0.0, 0.0\n",
    "      for j, data in enumerate(test_loader):\n",
    "          test_labels = data[1].to(device)\n",
    "          test_outputs = model(data[0].to(device))\n",
    "          \n",
    "          # подсчет ошибки на тесте\n",
    "          test_loss += criterion(test_outputs, test_labels.float().view(-1, 1))\n",
    "          # подсчет метрики на тесте\n",
    "          test_running_total += len(data[1])\n",
    "          pred_test_labels = torch.squeeze((test_outputs > th).int())\n",
    "          test_running_right += (test_labels == pred_test_labels).sum()\n",
    "      \n",
    "      test_loss_history.append(test_loss.item()/(j+1))\n",
    "      print(f'Test loss: {test_loss/(j+1):.3f}. Test acc: {test_running_right / test_running_total:.3f}')\n",
    "      test_running_right, test_running_total, test_loss = 0.0, 0.0, 0.0\n",
    "      model.train()\n",
    "          \n",
    "  print('Training is finished!')\n",
    "  return train_loss_history, test_loss_history"
   ]
  },
  {
   "cell_type": "markdown",
   "metadata": {
    "id": "UKnIYCyP7vmS"
   },
   "source": [
    "Проведем эксперимент - обучим сети для разного количества слов в словаре:"
   ]
  },
  {
   "cell_type": "code",
   "execution_count": 29,
   "metadata": {
    "colab": {
     "base_uri": "https://localhost:8080/"
    },
    "id": "gvZnGRYzb_mJ",
    "outputId": "a66a8194-8481-4800-98ea-78a191660a07"
   },
   "outputs": [
    {
     "name": "stderr",
     "output_type": "stream",
     "text": [
      "/usr/local/lib/python3.7/dist-packages/torch/nn/functional.py:1944: UserWarning: nn.functional.sigmoid is deprecated. Use torch.sigmoid instead.\n",
      "  warnings.warn(\"nn.functional.sigmoid is deprecated. Use torch.sigmoid instead.\")\n"
     ]
    },
    {
     "name": "stdout",
     "output_type": "stream",
     "text": [
      "Epoch [1/20]. Step [44/44]. Loss: 0.238. Acc: 0.910. Test loss: 0.192. Test acc: 0.930\n",
      "Epoch [2/20]. Step [44/44]. Loss: 0.161. Acc: 0.939. Test loss: 0.175. Test acc: 0.944\n",
      "Epoch [3/20]. Step [44/44]. Loss: 0.123. Acc: 0.954. Test loss: 0.154. Test acc: 0.947\n",
      "Epoch [4/20]. Step [44/44]. Loss: 0.097. Acc: 0.963. Test loss: 0.164. Test acc: 0.941\n",
      "Epoch [5/20]. Step [44/44]. Loss: 0.074. Acc: 0.972. Test loss: 0.211. Test acc: 0.939\n",
      "Epoch [6/20]. Step [44/44]. Loss: 0.060. Acc: 0.978. Test loss: 0.243. Test acc: 0.912\n",
      "Epoch [7/20]. Step [44/44]. Loss: 0.049. Acc: 0.982. Test loss: 0.271. Test acc: 0.945\n",
      "Epoch [8/20]. Step [44/44]. Loss: 0.033. Acc: 0.989. Test loss: 0.309. Test acc: 0.947\n",
      "Epoch [9/20]. Step [44/44]. Loss: 0.026. Acc: 0.991. Test loss: 0.446. Test acc: 0.947\n",
      "Epoch [10/20]. Step [44/44]. Loss: 0.025. Acc: 0.992. Test loss: 0.405. Test acc: 0.944\n",
      "Epoch [11/20]. Step [44/44]. Loss: 0.026. Acc: 0.991. Test loss: 0.362. Test acc: 0.945\n",
      "Epoch [12/20]. Step [44/44]. Loss: 0.021. Acc: 0.993. Test loss: 0.431. Test acc: 0.942\n",
      "Epoch [13/20]. Step [44/44]. Loss: 0.017. Acc: 0.994. Test loss: 0.410. Test acc: 0.941\n",
      "Epoch [14/20]. Step [44/44]. Loss: 0.013. Acc: 0.996. Test loss: 0.559. Test acc: 0.948\n",
      "Epoch [15/20]. Step [44/44]. Loss: 0.017. Acc: 0.994. Test loss: 0.431. Test acc: 0.943\n",
      "Epoch [16/20]. Step [44/44]. Loss: 0.013. Acc: 0.996. Test loss: 0.471. Test acc: 0.939\n",
      "Epoch [17/20]. Step [44/44]. Loss: 0.011. Acc: 0.997. Test loss: 0.527. Test acc: 0.945\n",
      "Epoch [18/20]. Step [44/44]. Loss: 0.009. Acc: 0.997. Test loss: 0.588. Test acc: 0.945\n",
      "Epoch [19/20]. Step [44/44]. Loss: 0.010. Acc: 0.997. Test loss: 0.571. Test acc: 0.933\n",
      "Epoch [20/20]. Step [44/44]. Loss: 0.010. Acc: 0.997. Test loss: 0.567. Test acc: 0.945\n",
      "Training is finished!\n",
      "Epoch [1/20]. Step [44/44]. Loss: 0.230. Acc: 0.917. Test loss: 0.189. Test acc: 0.930\n",
      "Epoch [2/20]. Step [44/44]. Loss: 0.154. Acc: 0.930. Test loss: 0.173. Test acc: 0.930\n",
      "Epoch [3/20]. Step [44/44]. Loss: 0.116. Acc: 0.951. Test loss: 0.174. Test acc: 0.949\n",
      "Epoch [4/20]. Step [44/44]. Loss: 0.093. Acc: 0.967. Test loss: 0.191. Test acc: 0.947\n",
      "Epoch [5/20]. Step [44/44]. Loss: 0.064. Acc: 0.976. Test loss: 0.227. Test acc: 0.951\n",
      "Epoch [6/20]. Step [44/44]. Loss: 0.043. Acc: 0.984. Test loss: 0.276. Test acc: 0.947\n",
      "Epoch [7/20]. Step [44/44]. Loss: 0.035. Acc: 0.988. Test loss: 0.312. Test acc: 0.945\n",
      "Epoch [8/20]. Step [44/44]. Loss: 0.029. Acc: 0.990. Test loss: 0.315. Test acc: 0.944\n",
      "Epoch [9/20]. Step [44/44]. Loss: 0.017. Acc: 0.994. Test loss: 0.363. Test acc: 0.944\n",
      "Epoch [10/20]. Step [44/44]. Loss: 0.014. Acc: 0.996. Test loss: 0.510. Test acc: 0.946\n",
      "Epoch [11/20]. Step [44/44]. Loss: 0.017. Acc: 0.994. Test loss: 0.485. Test acc: 0.949\n",
      "Epoch [12/20]. Step [44/44]. Loss: 0.012. Acc: 0.996. Test loss: 0.553. Test acc: 0.950\n",
      "Epoch [13/20]. Step [44/44]. Loss: 0.012. Acc: 0.996. Test loss: 0.469. Test acc: 0.951\n",
      "Epoch [14/20]. Step [44/44]. Loss: 0.011. Acc: 0.996. Test loss: 0.568. Test acc: 0.953\n",
      "Epoch [15/20]. Step [44/44]. Loss: 0.009. Acc: 0.997. Test loss: 0.568. Test acc: 0.952\n",
      "Epoch [16/20]. Step [44/44]. Loss: 0.006. Acc: 0.998. Test loss: 0.674. Test acc: 0.950\n",
      "Epoch [17/20]. Step [44/44]. Loss: 0.006. Acc: 0.998. Test loss: 0.592. Test acc: 0.944\n",
      "Epoch [18/20]. Step [44/44]. Loss: 0.008. Acc: 0.998. Test loss: 0.597. Test acc: 0.950\n",
      "Epoch [19/20]. Step [44/44]. Loss: 0.008. Acc: 0.998. Test loss: 0.803. Test acc: 0.953\n",
      "Epoch [20/20]. Step [44/44]. Loss: 0.010. Acc: 0.997. Test loss: 0.476. Test acc: 0.947\n",
      "Training is finished!\n",
      "Epoch [1/20]. Step [44/44]. Loss: 0.238. Acc: 0.930. Test loss: 0.195. Test acc: 0.930\n",
      "Epoch [2/20]. Step [44/44]. Loss: 0.150. Acc: 0.940. Test loss: 0.156. Test acc: 0.943\n",
      "Epoch [3/20]. Step [44/44]. Loss: 0.095. Acc: 0.963. Test loss: 0.185. Test acc: 0.953\n",
      "Epoch [4/20]. Step [44/44]. Loss: 0.058. Acc: 0.979. Test loss: 0.182. Test acc: 0.945\n",
      "Epoch [5/20]. Step [44/44]. Loss: 0.042. Acc: 0.985. Test loss: 0.240. Test acc: 0.953\n",
      "Epoch [6/20]. Step [44/44]. Loss: 0.027. Acc: 0.990. Test loss: 0.252. Test acc: 0.938\n",
      "Epoch [7/20]. Step [44/44]. Loss: 0.020. Acc: 0.993. Test loss: 0.352. Test acc: 0.949\n",
      "Epoch [8/20]. Step [44/44]. Loss: 0.017. Acc: 0.994. Test loss: 0.416. Test acc: 0.953\n",
      "Epoch [9/20]. Step [44/44]. Loss: 0.012. Acc: 0.996. Test loss: 0.508. Test acc: 0.952\n",
      "Epoch [10/20]. Step [44/44]. Loss: 0.019. Acc: 0.994. Test loss: 0.350. Test acc: 0.948\n",
      "Epoch [11/20]. Step [44/44]. Loss: 0.008. Acc: 0.997. Test loss: 0.463. Test acc: 0.947\n",
      "Epoch [12/20]. Step [44/44]. Loss: 0.005. Acc: 0.998. Test loss: 0.552. Test acc: 0.950\n",
      "Epoch [13/20]. Step [44/44]. Loss: 0.004. Acc: 0.999. Test loss: 0.552. Test acc: 0.950\n",
      "Epoch [14/20]. Step [44/44]. Loss: 0.004. Acc: 0.999. Test loss: 0.599. Test acc: 0.950\n",
      "Epoch [15/20]. Step [44/44]. Loss: 0.003. Acc: 0.999. Test loss: 0.630. Test acc: 0.948\n",
      "Epoch [16/20]. Step [44/44]. Loss: 0.004. Acc: 0.999. Test loss: 0.478. Test acc: 0.945\n",
      "Epoch [17/20]. Step [44/44]. Loss: 0.003. Acc: 0.999. Test loss: 0.803. Test acc: 0.953\n",
      "Epoch [18/20]. Step [44/44]. Loss: 0.004. Acc: 0.999. Test loss: 0.618. Test acc: 0.947\n",
      "Epoch [19/20]. Step [44/44]. Loss: 0.006. Acc: 0.998. Test loss: 0.485. Test acc: 0.950\n",
      "Epoch [20/20]. Step [44/44]. Loss: 0.003. Acc: 0.999. Test loss: 0.603. Test acc: 0.942\n",
      "Training is finished!\n"
     ]
    }
   ],
   "source": [
    "losses_train = []\n",
    "losses_test = []\n",
    "for i in [1000, 2000, 3000]:\n",
    "  train_loader, test_loader = get_loaders(max_words=i)\n",
    "  model = Net(vocab_size=i)\n",
    "  optimizer = torch.optim.Adam(model.parameters(), lr=0.01)\n",
    "  criterion = nn.BCELoss()\n",
    "  train_loss_history, test_loss_history = learn_net(model)\n",
    "  losses_train.append(train_loss_history)\n",
    "  losses_test.append(test_loss_history)"
   ]
  },
  {
   "cell_type": "code",
   "execution_count": 30,
   "metadata": {
    "colab": {
     "base_uri": "https://localhost:8080/",
     "height": 334
    },
    "id": "rpijK35ZXtzk",
    "outputId": "47474b56-8675-4136-d1cd-2aae9e107ba0"
   },
   "outputs": [
    {
     "data": {
      "image/png": "[encoded data removed]",
      "text/plain": [
       "<Figure size 1152x360 with 1 Axes>"
      ]
     },
     "metadata": {
      "needs_background": "light"
     },
     "output_type": "display_data"
    }
   ],
   "source": [
    "plt.figure(figsize = (16,5))\n",
    "for i in range(3):\n",
    "    plt.plot(losses_train[i],'-',label = f'{(i+1)*1000} vocabulary train')\n",
    "    plt.plot(losses_test[i],'--',label = f'{(i+1)*1000} vocabulary val')\n",
    "plt.legend()\n",
    "plt.xlabel('Epoch')\n",
    "plt.ylabel('Loss')\n",
    "plt.grid()\n",
    "plt.show() "
   ]
  },
  {
   "cell_type": "markdown",
   "metadata": {
    "id": "gv1UsPCR79HP"
   },
   "source": [
    "Как видно, сеть жутко переобучается, но сеть с наименьшим словарем ведет себя чуть лучше остальных.\n",
    "\n",
    "Попробуем сеть с дропаутами. Инициализируем ее:"
   ]
  },
  {
   "cell_type": "code",
   "execution_count": 34,
   "metadata": {
    "id": "Oq8xuwlUYqv5"
   },
   "outputs": [],
   "source": [
    "class Net2(nn.Module):\n",
    "    def __init__(self, vocab_size=2000, embedding_dim=128, out_channel=128, num_classes=1):\n",
    "        super().__init__()\n",
    "        self.embedding = nn.Embedding(vocab_size, embedding_dim)\n",
    "        self.conv_1 = nn.Conv1d(embedding_dim, out_channel, kernel_size=2)\n",
    "        self.conv_2 = nn.Conv1d(out_channel, out_channel, kernel_size=3)\n",
    "        self.pool = nn.MaxPool1d(2)\n",
    "        self.relu = nn.ReLU()\n",
    "        self.linear_1 = nn.Linear(out_channel, out_channel // 2)\n",
    "        self.linear_2 = nn.Linear(out_channel // 2, num_classes)\n",
    "        self.dp1 = nn.Dropout(.4)\n",
    "        self.dp2 = nn.Dropout(.4)\n",
    "        self.dp3 = nn.Dropout(.4)\n",
    "        self.dp4 = nn.Dropout(.4)\n",
    "        \n",
    "    def forward(self, x):        \n",
    "        output = self.embedding(x) # B, L, E\n",
    "        #                       B  E  L \n",
    "        output = output.permute(0, 2, 1)\n",
    "        output = self.conv_1(output)\n",
    "        output = self.dp4(output)\n",
    "        output = self.relu(output)\n",
    "        output = self.pool(output)\n",
    "\n",
    "        output = self.conv_2(output)\n",
    "        output = self.dp1(output)\n",
    "        output = self.relu(output)\n",
    "        output = self.pool(output)\n",
    "        output = torch.max(output, axis=2).values\n",
    "        output = self.linear_1(output)\n",
    "        output = self.dp2(output)\n",
    "        output = self.relu(output)\n",
    "        output = self.linear_2(output)\n",
    "        output = self.dp3(output)\n",
    "        output = F.sigmoid(output)\n",
    "        return output"
   ]
  },
  {
   "cell_type": "markdown",
   "metadata": {
    "id": "YMDXMOQS8U59"
   },
   "source": [
    "Обучим сеть с дропаутами:"
   ]
  },
  {
   "cell_type": "code",
   "execution_count": 38,
   "metadata": {
    "colab": {
     "base_uri": "https://localhost:8080/"
    },
    "id": "lmDqbC8YcVLL",
    "outputId": "ff44d950-884e-47b8-c7b1-8a21557f9010"
   },
   "outputs": [
    {
     "name": "stderr",
     "output_type": "stream",
     "text": [
      "/usr/local/lib/python3.7/dist-packages/torch/nn/functional.py:1944: UserWarning: nn.functional.sigmoid is deprecated. Use torch.sigmoid instead.\n",
      "  warnings.warn(\"nn.functional.sigmoid is deprecated. Use torch.sigmoid instead.\")\n"
     ]
    },
    {
     "name": "stdout",
     "output_type": "stream",
     "text": [
      "Epoch [1/20]. Step [44/44]. Loss: 0.454. Acc: 0.924. Test loss: 0.335. Test acc: 0.930\n",
      "Epoch [2/20]. Step [44/44]. Loss: 0.400. Acc: 0.930. Test loss: 0.257. Test acc: 0.930\n",
      "Epoch [3/20]. Step [44/44]. Loss: 0.395. Acc: 0.930. Test loss: 0.250. Test acc: 0.930\n",
      "Epoch [4/20]. Step [44/44]. Loss: 0.372. Acc: 0.931. Test loss: 0.184. Test acc: 0.930\n",
      "Epoch [5/20]. Step [44/44]. Loss: 0.368. Acc: 0.934. Test loss: 0.241. Test acc: 0.945\n",
      "Epoch [6/20]. Step [44/44]. Loss: 0.363. Acc: 0.937. Test loss: 0.206. Test acc: 0.946\n",
      "Epoch [7/20]. Step [44/44]. Loss: 0.360. Acc: 0.939. Test loss: 0.209. Test acc: 0.940\n",
      "Epoch [8/20]. Step [44/44]. Loss: 0.354. Acc: 0.937. Test loss: 0.182. Test acc: 0.946\n",
      "Epoch [9/20]. Step [44/44]. Loss: 0.349. Acc: 0.940. Test loss: 0.183. Test acc: 0.947\n",
      "Epoch [10/20]. Step [44/44]. Loss: 0.343. Acc: 0.941. Test loss: 0.183. Test acc: 0.948\n",
      "Epoch [11/20]. Step [44/44]. Loss: 0.352. Acc: 0.940. Test loss: 0.195. Test acc: 0.947\n",
      "Epoch [12/20]. Step [44/44]. Loss: 0.348. Acc: 0.941. Test loss: 0.196. Test acc: 0.942\n",
      "Epoch [13/20]. Step [44/44]. Loss: 0.344. Acc: 0.942. Test loss: 0.181. Test acc: 0.948\n",
      "Epoch [14/20]. Step [44/44]. Loss: 0.338. Acc: 0.949. Test loss: 0.184. Test acc: 0.945\n",
      "Epoch [15/20]. Step [44/44]. Loss: 0.343. Acc: 0.943. Test loss: 0.209. Test acc: 0.944\n",
      "Epoch [16/20]. Step [44/44]. Loss: 0.340. Acc: 0.944. Test loss: 0.203. Test acc: 0.948\n",
      "Epoch [17/20]. Step [44/44]. Loss: 0.341. Acc: 0.944. Test loss: 0.210. Test acc: 0.946\n",
      "Epoch [18/20]. Step [44/44]. Loss: 0.337. Acc: 0.947. Test loss: 0.206. Test acc: 0.947\n",
      "Epoch [19/20]. Step [44/44]. Loss: 0.331. Acc: 0.947. Test loss: 0.245. Test acc: 0.947\n",
      "Epoch [20/20]. Step [44/44]. Loss: 0.333. Acc: 0.949. Test loss: 0.253. Test acc: 0.947\n",
      "Training is finished!\n"
     ]
    }
   ],
   "source": [
    "train_loader, test_loader = get_loaders(max_words=1000)\n",
    "model = Net2(vocab_size=1000)\n",
    "optimizer = torch.optim.Adam(model.parameters(), lr=0.01)\n",
    "criterion = nn.BCELoss()\n",
    "train_loss_history, test_loss_history = learn_net(model)"
   ]
  },
  {
   "cell_type": "code",
   "execution_count": 39,
   "metadata": {
    "colab": {
     "base_uri": "https://localhost:8080/",
     "height": 295
    },
    "id": "nKjj_xqodG8l",
    "outputId": "7f61831e-580e-42fa-c4f2-44a3b0141a12"
   },
   "outputs": [
    {
     "data": {
      "image/png": "[encoded data removed]",
      "text/plain": [
       "<Figure size 432x288 with 1 Axes>"
      ]
     },
     "metadata": {
      "needs_background": "light"
     },
     "output_type": "display_data"
    }
   ],
   "source": [
    "plt.title('Loss history')\n",
    "plt.grid(True)\n",
    "plt.ylabel('Loss')\n",
    "plt.xlabel('Epoch')\n",
    "plt.plot(train_loss_history, label='train')\n",
    "plt.plot(test_loss_history, label='test')\n",
    "plt.legend();"
   ]
  },
  {
   "cell_type": "markdown",
   "metadata": {
    "id": "7couMMzR8dSc"
   },
   "source": [
    "Как видно, сеть уже не так сильно переобучается, но после 9 эпохи лосс на тесте начинает расти.\n",
    "\n",
    "Теперь попробуем разную длину последовательностей:"
   ]
  },
  {
   "cell_type": "code",
   "execution_count": 24,
   "metadata": {
    "colab": {
     "base_uri": "https://localhost:8080/"
    },
    "id": "Km39xt35ktc1",
    "outputId": "d670e9ab-ce2e-4f38-b8e8-7061966f57cb"
   },
   "outputs": [
    {
     "name": "stderr",
     "output_type": "stream",
     "text": [
      "/usr/local/lib/python3.7/dist-packages/torch/nn/functional.py:1944: UserWarning: nn.functional.sigmoid is deprecated. Use torch.sigmoid instead.\n",
      "  warnings.warn(\"nn.functional.sigmoid is deprecated. Use torch.sigmoid instead.\")\n"
     ]
    },
    {
     "name": "stdout",
     "output_type": "stream",
     "text": [
      "Epoch [1/20]. Step [44/44]. Loss: 0.438. Acc: 0.919. Test loss: 0.324. Test acc: 0.930\n",
      "Epoch [2/20]. Step [44/44]. Loss: 0.396. Acc: 0.930. Test loss: 0.293. Test acc: 0.930\n",
      "Epoch [3/20]. Step [44/44]. Loss: 0.380. Acc: 0.930. Test loss: 0.197. Test acc: 0.930\n",
      "Epoch [4/20]. Step [44/44]. Loss: 0.376. Acc: 0.934. Test loss: 0.190. Test acc: 0.936\n",
      "Epoch [5/20]. Step [44/44]. Loss: 0.370. Acc: 0.939. Test loss: 0.216. Test acc: 0.945\n",
      "Epoch [6/20]. Step [44/44]. Loss: 0.365. Acc: 0.940. Test loss: 0.191. Test acc: 0.940\n",
      "Epoch [7/20]. Step [44/44]. Loss: 0.360. Acc: 0.940. Test loss: 0.199. Test acc: 0.946\n",
      "Epoch [8/20]. Step [44/44]. Loss: 0.357. Acc: 0.942. Test loss: 0.185. Test acc: 0.945\n",
      "Epoch [9/20]. Step [44/44]. Loss: 0.353. Acc: 0.942. Test loss: 0.204. Test acc: 0.945\n",
      "Epoch [10/20]. Step [44/44]. Loss: 0.348. Acc: 0.946. Test loss: 0.182. Test acc: 0.947\n",
      "Epoch [11/20]. Step [44/44]. Loss: 0.353. Acc: 0.943. Test loss: 0.197. Test acc: 0.948\n",
      "Epoch [12/20]. Step [44/44]. Loss: 0.345. Acc: 0.946. Test loss: 0.187. Test acc: 0.948\n",
      "Epoch [13/20]. Step [44/44]. Loss: 0.347. Acc: 0.947. Test loss: 0.191. Test acc: 0.948\n",
      "Epoch [14/20]. Step [44/44]. Loss: 0.343. Acc: 0.946. Test loss: 0.259. Test acc: 0.947\n",
      "Epoch [15/20]. Step [44/44]. Loss: 0.340. Acc: 0.948. Test loss: 0.214. Test acc: 0.948\n",
      "Epoch [16/20]. Step [44/44]. Loss: 0.340. Acc: 0.947. Test loss: 0.215. Test acc: 0.948\n",
      "Epoch [17/20]. Step [44/44]. Loss: 0.343. Acc: 0.948. Test loss: 0.227. Test acc: 0.945\n",
      "Epoch [18/20]. Step [44/44]. Loss: 0.347. Acc: 0.947. Test loss: 0.223. Test acc: 0.945\n",
      "Epoch [19/20]. Step [44/44]. Loss: 0.329. Acc: 0.951. Test loss: 0.225. Test acc: 0.946\n",
      "Epoch [20/20]. Step [44/44]. Loss: 0.334. Acc: 0.951. Test loss: 0.228. Test acc: 0.946\n",
      "Training is finished!\n",
      "Epoch [1/20]. Step [44/44]. Loss: 0.449. Acc: 0.917. Test loss: 0.305. Test acc: 0.930\n",
      "Epoch [2/20]. Step [44/44]. Loss: 0.397. Acc: 0.930. Test loss: 0.255. Test acc: 0.930\n",
      "Epoch [3/20]. Step [44/44]. Loss: 0.387. Acc: 0.930. Test loss: 0.252. Test acc: 0.930\n",
      "Epoch [4/20]. Step [44/44]. Loss: 0.378. Acc: 0.931. Test loss: 0.201. Test acc: 0.933\n",
      "Epoch [5/20]. Step [44/44]. Loss: 0.370. Acc: 0.935. Test loss: 0.208. Test acc: 0.932\n",
      "Epoch [6/20]. Step [44/44]. Loss: 0.370. Acc: 0.938. Test loss: 0.191. Test acc: 0.944\n",
      "Epoch [7/20]. Step [44/44]. Loss: 0.362. Acc: 0.940. Test loss: 0.198. Test acc: 0.945\n",
      "Epoch [8/20]. Step [44/44]. Loss: 0.358. Acc: 0.941. Test loss: 0.186. Test acc: 0.944\n",
      "Epoch [9/20]. Step [44/44]. Loss: 0.353. Acc: 0.941. Test loss: 0.180. Test acc: 0.946\n",
      "Epoch [10/20]. Step [44/44]. Loss: 0.352. Acc: 0.943. Test loss: 0.181. Test acc: 0.947\n",
      "Epoch [11/20]. Step [44/44]. Loss: 0.351. Acc: 0.943. Test loss: 0.189. Test acc: 0.945\n",
      "Epoch [12/20]. Step [44/44]. Loss: 0.348. Acc: 0.945. Test loss: 0.190. Test acc: 0.948\n",
      "Epoch [13/20]. Step [44/44]. Loss: 0.343. Acc: 0.943. Test loss: 0.190. Test acc: 0.946\n",
      "Epoch [14/20]. Step [44/44]. Loss: 0.346. Acc: 0.944. Test loss: 0.198. Test acc: 0.947\n",
      "Epoch [15/20]. Step [44/44]. Loss: 0.344. Acc: 0.944. Test loss: 0.196. Test acc: 0.944\n",
      "Epoch [16/20]. Step [44/44]. Loss: 0.342. Acc: 0.945. Test loss: 0.204. Test acc: 0.949\n",
      "Epoch [17/20]. Step [44/44]. Loss: 0.341. Acc: 0.946. Test loss: 0.249. Test acc: 0.947\n",
      "Epoch [18/20]. Step [44/44]. Loss: 0.344. Acc: 0.947. Test loss: 0.223. Test acc: 0.946\n",
      "Epoch [19/20]. Step [44/44]. Loss: 0.339. Acc: 0.947. Test loss: 0.206. Test acc: 0.946\n",
      "Epoch [20/20]. Step [44/44]. Loss: 0.339. Acc: 0.949. Test loss: 0.201. Test acc: 0.946\n",
      "Training is finished!\n",
      "Epoch [1/20]. Step [44/44]. Loss: 0.444. Acc: 0.923. Test loss: 0.301. Test acc: 0.930\n",
      "Epoch [2/20]. Step [44/44]. Loss: 0.398. Acc: 0.930. Test loss: 0.320. Test acc: 0.930\n",
      "Epoch [3/20]. Step [44/44]. Loss: 0.383. Acc: 0.930. Test loss: 0.224. Test acc: 0.930\n",
      "Epoch [4/20]. Step [44/44]. Loss: 0.377. Acc: 0.930. Test loss: 0.208. Test acc: 0.930\n",
      "Epoch [5/20]. Step [44/44]. Loss: 0.370. Acc: 0.934. Test loss: 0.176. Test acc: 0.945\n",
      "Epoch [6/20]. Step [44/44]. Loss: 0.363. Acc: 0.936. Test loss: 0.210. Test acc: 0.934\n",
      "Epoch [7/20]. Step [44/44]. Loss: 0.367. Acc: 0.935. Test loss: 0.180. Test acc: 0.938\n",
      "Epoch [8/20]. Step [44/44]. Loss: 0.357. Acc: 0.939. Test loss: 0.174. Test acc: 0.946\n",
      "Epoch [9/20]. Step [44/44]. Loss: 0.355. Acc: 0.942. Test loss: 0.185. Test acc: 0.946\n",
      "Epoch [10/20]. Step [44/44]. Loss: 0.355. Acc: 0.938. Test loss: 0.204. Test acc: 0.944\n",
      "Epoch [11/20]. Step [44/44]. Loss: 0.352. Acc: 0.939. Test loss: 0.204. Test acc: 0.947\n",
      "Epoch [12/20]. Step [44/44]. Loss: 0.345. Acc: 0.940. Test loss: 0.191. Test acc: 0.946\n",
      "Epoch [13/20]. Step [44/44]. Loss: 0.351. Acc: 0.941. Test loss: 0.194. Test acc: 0.945\n",
      "Epoch [14/20]. Step [44/44]. Loss: 0.344. Acc: 0.944. Test loss: 0.186. Test acc: 0.947\n",
      "Epoch [15/20]. Step [44/44]. Loss: 0.341. Acc: 0.944. Test loss: 0.183. Test acc: 0.945\n",
      "Epoch [16/20]. Step [44/44]. Loss: 0.343. Acc: 0.945. Test loss: 0.205. Test acc: 0.948\n",
      "Epoch [17/20]. Step [44/44]. Loss: 0.342. Acc: 0.945. Test loss: 0.200. Test acc: 0.948\n",
      "Epoch [18/20]. Step [44/44]. Loss: 0.345. Acc: 0.946. Test loss: 0.235. Test acc: 0.946\n",
      "Epoch [19/20]. Step [44/44]. Loss: 0.342. Acc: 0.947. Test loss: 0.205. Test acc: 0.948\n",
      "Epoch [20/20]. Step [44/44]. Loss: 0.339. Acc: 0.949. Test loss: 0.193. Test acc: 0.947\n",
      "Training is finished!\n"
     ]
    }
   ],
   "source": [
    "losses_train = []\n",
    "losses_test = []\n",
    "for i in [10, 15, 20]:\n",
    "  train_loader, test_loader = get_loaders(max_words=1000, max_len=i)\n",
    "  model = Net2(vocab_size=1000)\n",
    "  optimizer = torch.optim.Adam(model.parameters(), lr=0.01)\n",
    "  criterion = nn.BCELoss()\n",
    "  train_loss_history, test_loss_history = learn_net(model)\n",
    "  losses_train.append(train_loss_history)\n",
    "  losses_test.append(test_loss_history)"
   ]
  },
  {
   "cell_type": "code",
   "execution_count": 25,
   "metadata": {
    "colab": {
     "base_uri": "https://localhost:8080/",
     "height": 334
    },
    "id": "qHcBOGbSzgPb",
    "outputId": "933815a7-5b24-4c09-a2b3-54d4e2d2ff69"
   },
   "outputs": [
    {
     "data": {
      "image/png": "[encoded data removed]",
      "text/plain": [
       "<Figure size 1152x360 with 1 Axes>"
      ]
     },
     "metadata": {
      "needs_background": "light"
     },
     "output_type": "display_data"
    }
   ],
   "source": [
    "plt.figure(figsize = (16,5))\n",
    "for i in range(3):\n",
    "    plt.plot(losses_train[i],'-',label = f'{i * 5 + 10} len string train')\n",
    "    plt.plot(losses_test[i],'--',label = f'{i * 5 + 10} len string val')\n",
    "plt.legend()\n",
    "plt.xlabel('Epoch')\n",
    "plt.ylabel('Loss')\n",
    "plt.grid()\n",
    "plt.show() "
   ]
  },
  {
   "cell_type": "markdown",
   "metadata": {
    "id": "z7K_Wmrm8zpD"
   },
   "source": [
    "Особо ничего не меняется в лоссе на тесте, но наиболее плавно ведет себя сеть с длиной последовательности 15.\n",
    "\n",
    "Теперь попробуем разную длину эмбеддинга:"
   ]
  },
  {
   "cell_type": "code",
   "execution_count": 35,
   "metadata": {
    "colab": {
     "base_uri": "https://localhost:8080/"
    },
    "id": "FwcziOPV0fAy",
    "outputId": "27ecae54-0346-40fa-eab0-a70fdf7e75ad"
   },
   "outputs": [
    {
     "name": "stderr",
     "output_type": "stream",
     "text": [
      "/usr/local/lib/python3.7/dist-packages/torch/nn/functional.py:1944: UserWarning: nn.functional.sigmoid is deprecated. Use torch.sigmoid instead.\n",
      "  warnings.warn(\"nn.functional.sigmoid is deprecated. Use torch.sigmoid instead.\")\n"
     ]
    },
    {
     "name": "stdout",
     "output_type": "stream",
     "text": [
      "Epoch [1/20]. Step [44/44]. Loss: 0.442. Acc: 0.929. Test loss: 0.328. Test acc: 0.930\n",
      "Epoch [2/20]. Step [44/44]. Loss: 0.399. Acc: 0.930. Test loss: 0.251. Test acc: 0.930\n",
      "Epoch [3/20]. Step [44/44]. Loss: 0.385. Acc: 0.931. Test loss: 0.257. Test acc: 0.936\n",
      "Epoch [4/20]. Step [44/44]. Loss: 0.369. Acc: 0.937. Test loss: 0.187. Test acc: 0.940\n",
      "Epoch [5/20]. Step [44/44]. Loss: 0.367. Acc: 0.937. Test loss: 0.199. Test acc: 0.939\n",
      "Epoch [6/20]. Step [44/44]. Loss: 0.366. Acc: 0.940. Test loss: 0.216. Test acc: 0.941\n",
      "Epoch [7/20]. Step [44/44]. Loss: 0.362. Acc: 0.942. Test loss: 0.184. Test acc: 0.947\n",
      "Epoch [8/20]. Step [44/44]. Loss: 0.354. Acc: 0.943. Test loss: 0.185. Test acc: 0.945\n",
      "Epoch [9/20]. Step [44/44]. Loss: 0.355. Acc: 0.942. Test loss: 0.180. Test acc: 0.945\n",
      "Epoch [10/20]. Step [44/44]. Loss: 0.355. Acc: 0.944. Test loss: 0.188. Test acc: 0.947\n",
      "Epoch [11/20]. Step [44/44]. Loss: 0.345. Acc: 0.945. Test loss: 0.189. Test acc: 0.947\n",
      "Epoch [12/20]. Step [44/44]. Loss: 0.350. Acc: 0.945. Test loss: 0.186. Test acc: 0.946\n",
      "Epoch [13/20]. Step [44/44]. Loss: 0.352. Acc: 0.943. Test loss: 0.184. Test acc: 0.946\n",
      "Epoch [14/20]. Step [44/44]. Loss: 0.349. Acc: 0.944. Test loss: 0.190. Test acc: 0.946\n",
      "Epoch [15/20]. Step [44/44]. Loss: 0.347. Acc: 0.948. Test loss: 0.191. Test acc: 0.947\n",
      "Epoch [16/20]. Step [44/44]. Loss: 0.338. Acc: 0.946. Test loss: 0.199. Test acc: 0.946\n",
      "Epoch [17/20]. Step [44/44]. Loss: 0.341. Acc: 0.947. Test loss: 0.194. Test acc: 0.946\n",
      "Epoch [18/20]. Step [44/44]. Loss: 0.341. Acc: 0.948. Test loss: 0.199. Test acc: 0.947\n",
      "Epoch [19/20]. Step [44/44]. Loss: 0.336. Acc: 0.948. Test loss: 0.212. Test acc: 0.943\n",
      "Epoch [20/20]. Step [44/44]. Loss: 0.339. Acc: 0.948. Test loss: 0.221. Test acc: 0.944\n",
      "Training is finished!\n",
      "Epoch [1/20]. Step [44/44]. Loss: 0.471. Acc: 0.920. Test loss: 0.258. Test acc: 0.930\n",
      "Epoch [2/20]. Step [44/44]. Loss: 0.391. Acc: 0.930. Test loss: 0.237. Test acc: 0.930\n",
      "Epoch [3/20]. Step [44/44]. Loss: 0.385. Acc: 0.930. Test loss: 0.248. Test acc: 0.930\n",
      "Epoch [4/20]. Step [44/44]. Loss: 0.375. Acc: 0.931. Test loss: 0.239. Test acc: 0.936\n",
      "Epoch [5/20]. Step [44/44]. Loss: 0.375. Acc: 0.933. Test loss: 0.212. Test acc: 0.938\n",
      "Epoch [6/20]. Step [44/44]. Loss: 0.366. Acc: 0.936. Test loss: 0.194. Test acc: 0.940\n",
      "Epoch [7/20]. Step [44/44]. Loss: 0.366. Acc: 0.935. Test loss: 0.202. Test acc: 0.945\n",
      "Epoch [8/20]. Step [44/44]. Loss: 0.361. Acc: 0.938. Test loss: 0.187. Test acc: 0.943\n",
      "Epoch [9/20]. Step [44/44]. Loss: 0.362. Acc: 0.940. Test loss: 0.212. Test acc: 0.945\n",
      "Epoch [10/20]. Step [44/44]. Loss: 0.357. Acc: 0.940. Test loss: 0.185. Test acc: 0.946\n",
      "Epoch [11/20]. Step [44/44]. Loss: 0.349. Acc: 0.942. Test loss: 0.185. Test acc: 0.947\n",
      "Epoch [12/20]. Step [44/44]. Loss: 0.347. Acc: 0.942. Test loss: 0.190. Test acc: 0.947\n",
      "Epoch [13/20]. Step [44/44]. Loss: 0.346. Acc: 0.944. Test loss: 0.192. Test acc: 0.948\n",
      "Epoch [14/20]. Step [44/44]. Loss: 0.349. Acc: 0.944. Test loss: 0.196. Test acc: 0.947\n",
      "Epoch [15/20]. Step [44/44]. Loss: 0.341. Acc: 0.948. Test loss: 0.207. Test acc: 0.949\n",
      "Epoch [16/20]. Step [44/44]. Loss: 0.346. Acc: 0.945. Test loss: 0.214. Test acc: 0.945\n",
      "Epoch [17/20]. Step [44/44]. Loss: 0.339. Acc: 0.949. Test loss: 0.216. Test acc: 0.945\n",
      "Epoch [18/20]. Step [44/44]. Loss: 0.341. Acc: 0.948. Test loss: 0.207. Test acc: 0.948\n",
      "Epoch [19/20]. Step [44/44]. Loss: 0.336. Acc: 0.948. Test loss: 0.227. Test acc: 0.948\n",
      "Epoch [20/20]. Step [44/44]. Loss: 0.331. Acc: 0.948. Test loss: 0.237. Test acc: 0.948\n",
      "Training is finished!\n",
      "Epoch [1/20]. Step [44/44]. Loss: 0.461. Acc: 0.925. Test loss: 0.270. Test acc: 0.930\n",
      "Epoch [2/20]. Step [44/44]. Loss: 0.395. Acc: 0.930. Test loss: 0.221. Test acc: 0.932\n",
      "Epoch [3/20]. Step [44/44]. Loss: 0.384. Acc: 0.931. Test loss: 0.234. Test acc: 0.931\n",
      "Epoch [4/20]. Step [44/44]. Loss: 0.378. Acc: 0.932. Test loss: 0.219. Test acc: 0.932\n",
      "Epoch [5/20]. Step [44/44]. Loss: 0.377. Acc: 0.933. Test loss: 0.221. Test acc: 0.934\n",
      "Epoch [6/20]. Step [44/44]. Loss: 0.375. Acc: 0.933. Test loss: 0.197. Test acc: 0.935\n",
      "Epoch [7/20]. Step [44/44]. Loss: 0.364. Acc: 0.935. Test loss: 0.222. Test acc: 0.942\n",
      "Epoch [8/20]. Step [44/44]. Loss: 0.365. Acc: 0.937. Test loss: 0.205. Test acc: 0.945\n",
      "Epoch [9/20]. Step [44/44]. Loss: 0.358. Acc: 0.938. Test loss: 0.196. Test acc: 0.939\n",
      "Epoch [10/20]. Step [44/44]. Loss: 0.350. Acc: 0.941. Test loss: 0.189. Test acc: 0.946\n",
      "Epoch [11/20]. Step [44/44]. Loss: 0.362. Acc: 0.941. Test loss: 0.207. Test acc: 0.946\n",
      "Epoch [12/20]. Step [44/44]. Loss: 0.353. Acc: 0.943. Test loss: 0.194. Test acc: 0.947\n",
      "Epoch [13/20]. Step [44/44]. Loss: 0.349. Acc: 0.942. Test loss: 0.205. Test acc: 0.945\n",
      "Epoch [14/20]. Step [44/44]. Loss: 0.347. Acc: 0.941. Test loss: 0.238. Test acc: 0.945\n",
      "Epoch [15/20]. Step [44/44]. Loss: 0.347. Acc: 0.943. Test loss: 0.212. Test acc: 0.947\n",
      "Epoch [16/20]. Step [44/44]. Loss: 0.358. Acc: 0.942. Test loss: 0.223. Test acc: 0.946\n",
      "Epoch [17/20]. Step [44/44]. Loss: 0.344. Acc: 0.942. Test loss: 0.250. Test acc: 0.948\n",
      "Epoch [18/20]. Step [44/44]. Loss: 0.345. Acc: 0.944. Test loss: 0.255. Test acc: 0.948\n",
      "Epoch [19/20]. Step [44/44]. Loss: 0.345. Acc: 0.942. Test loss: 0.235. Test acc: 0.947\n",
      "Epoch [20/20]. Step [44/44]. Loss: 0.343. Acc: 0.945. Test loss: 0.374. Test acc: 0.947\n",
      "Training is finished!\n"
     ]
    }
   ],
   "source": [
    "losses_train = []\n",
    "losses_test = []\n",
    "for i in [64, 128, 256]:\n",
    "  train_loader, test_loader = get_loaders(max_words=1000, max_len=15)\n",
    "  model = Net2(vocab_size=1000, embedding_dim=i)\n",
    "  optimizer = torch.optim.Adam(model.parameters(), lr=0.01)\n",
    "  criterion = nn.BCELoss()\n",
    "  train_loss_history, test_loss_history = learn_net(model)\n",
    "  losses_train.append(train_loss_history)\n",
    "  losses_test.append(test_loss_history)"
   ]
  },
  {
   "cell_type": "code",
   "execution_count": 37,
   "metadata": {
    "colab": {
     "base_uri": "https://localhost:8080/",
     "height": 334
    },
    "id": "fIbqX0X01F3j",
    "outputId": "ce3c8ea4-f50f-487a-8ffa-da87c5df8e1c"
   },
   "outputs": [
    {
     "data": {
      "image/png": "[encoded data removed]",
      "text/plain": [
       "<Figure size 1152x360 with 1 Axes>"
      ]
     },
     "metadata": {
      "needs_background": "light"
     },
     "output_type": "display_data"
    }
   ],
   "source": [
    "plt.figure(figsize = (16,5))\n",
    "for i in range(3):\n",
    "    plt.plot(losses_train[i],'-',label = f'{2**(6 + i)} len string train')\n",
    "    plt.plot(losses_test[i],'--',label = f'{2**(6 + i)} len string val')\n",
    "plt.legend()\n",
    "plt.xlabel('Epoch')\n",
    "plt.ylabel('Loss')\n",
    "plt.grid()\n",
    "plt.show() "
   ]
  },
  {
   "cell_type": "markdown",
   "metadata": {
    "id": "emhVr1979Kge"
   },
   "source": [
    "По прежнему не особо сильно что-то изменилось, но при длине вектора эмбеддинга 64 вроде лучший лосс.\n",
    "\n",
    "**Общие выводы:**\n",
    "\n",
    "\n",
    "*   Accuracy на тесте доходит до 95%. Но тривиальное предсказание нуля при таком дизбалансе нам дает 92.8%\n",
    "*   Никакой подбор параметров не дал особого уменьшения лосса на тесте, удалось лишь существенно сократить переобучение.\n",
    "\n",
    "\n",
    "\n",
    "\n",
    "\n"
   ]
  }
 ],
 "metadata": {
  "colab": {
   "collapsed_sections": [],
   "name": "Homework6",
   "provenance": []
  },
  "kernelspec": {
   "display_name": "Python 3 (ipykernel)",
   "language": "python",
   "name": "python3"
  },
  "language_info": {
   "codemirror_mode": {
    "name": "ipython",
    "version": 3
   },
   "file_extension": ".py",
   "mimetype": "text/x-python",
   "name": "python",
   "nbconvert_exporter": "python",
   "pygments_lexer": "ipython3",
   "version": "3.9.15"
  }
 },
 "nbformat": 4,
 "nbformat_minor": 1
}
